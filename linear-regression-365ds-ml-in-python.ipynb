{
 "cells": [
  {
   "cell_type": "markdown",
   "id": "0b6f6a8d",
   "metadata": {
    "execution": {
     "iopub.execute_input": "2023-06-30T09:54:20.623674Z",
     "iopub.status.busy": "2023-06-30T09:54:20.623291Z",
     "iopub.status.idle": "2023-06-30T09:54:20.628746Z",
     "shell.execute_reply": "2023-06-30T09:54:20.627246Z",
     "shell.execute_reply.started": "2023-06-30T09:54:20.623647Z"
    },
    "papermill": {
     "duration": 0.028615,
     "end_time": "2024-02-07T09:50:59.239413",
     "exception": false,
     "start_time": "2024-02-07T09:50:59.210798",
     "status": "completed"
    },
    "tags": []
   },
   "source": [
    "# **<center>Simple Linear Regression & Multiple Linear Regression</center>**\n",
    "# <center> Machine Learning in Python</center><br><br> <center>(A 365 Data Science Course)</center>\n",
    "\n",
    "## This notebook contains the solutions to the exercises provided in the 'Machine Learning in Python' course offered by 365 Data Science Team & coded by me. It also contains some of the practice sets used in the said course.\n",
    "## ~ <br>\n",
    "## by Jigar Patel\n",
    "\n",
    "* [1. Simple Linear Regression](#1)\n",
    "    - [1.1 Simple Linear Regression Model using GPA and SAT scores](#2)\n",
    "    - [1.2 Simple Linear Regression Model using Real Estate Data (Price vs Size)](#3)\n",
    "* [2. Multiple Linear Regression](#4)\n",
    "    - [2.1 Multiple Linear Regression Model using GPA, SAT & Random Scores](#5)\n",
    "    - [2.2 Multiple Linear Regression Model using Real Estate Data (Price vs Size & Year)](#6)\n",
    "* [3. Multiple Linear Regression involving categorical data](#7)\n",
    "    - [3.1 Multiple Linear Regression Model using GPA, SAT and Attendance](#8)\n",
    "    - [3.2 Multiple Linear Regression Model using Real Estate Data](#9)"
   ]
  },
  {
   "cell_type": "markdown",
   "id": "5ef9cad6",
   "metadata": {
    "papermill": {
     "duration": 0.020681,
     "end_time": "2024-02-07T09:50:59.281398",
     "exception": false,
     "start_time": "2024-02-07T09:50:59.260717",
     "status": "completed"
    },
    "tags": []
   },
   "source": [
    "<a id=\"1\"></a>\n",
    "# 1. Simple Linear Regression "
   ]
  },
  {
   "cell_type": "markdown",
   "id": "ca58316b",
   "metadata": {
    "papermill": {
     "duration": 0.020439,
     "end_time": "2024-02-07T09:50:59.323629",
     "exception": false,
     "start_time": "2024-02-07T09:50:59.303190",
     "status": "completed"
    },
    "tags": []
   },
   "source": [
    "<a id=\"2\"></a>\n",
    "## 1.1 Preparing a Simple Linear Regression Model using GPA and SAT scores"
   ]
  },
  {
   "cell_type": "code",
   "execution_count": 1,
   "id": "86f94373",
   "metadata": {
    "_cell_guid": "b1076dfc-b9ad-4769-8c92-a6c4dae69d19",
    "_uuid": "8f2839f25d086af736a60e9eeb907d3b93b6e0e5",
    "execution": {
     "iopub.execute_input": "2024-02-07T09:50:59.368312Z",
     "iopub.status.busy": "2024-02-07T09:50:59.367784Z",
     "iopub.status.idle": "2024-02-07T09:51:03.704454Z",
     "shell.execute_reply": "2024-02-07T09:51:03.703313Z"
    },
    "papermill": {
     "duration": 4.36288,
     "end_time": "2024-02-07T09:51:03.707309",
     "exception": false,
     "start_time": "2024-02-07T09:50:59.344429",
     "status": "completed"
    },
    "tags": []
   },
   "outputs": [],
   "source": [
    "# Importing the relevant libraries\n",
    "import numpy as np\n",
    "import pandas as pd\n",
    "import matplotlib.pyplot as plt\n",
    "import statsmodels.api as sm\n",
    "import seaborn as sns\n",
    "# Setting the styles to Seaborn\n",
    "sns.set()"
   ]
  },
  {
   "cell_type": "code",
   "execution_count": 2,
   "id": "f8a2a2e2",
   "metadata": {
    "execution": {
     "iopub.execute_input": "2024-02-07T09:51:03.751254Z",
     "iopub.status.busy": "2024-02-07T09:51:03.749973Z",
     "iopub.status.idle": "2024-02-07T09:51:03.781003Z",
     "shell.execute_reply": "2024-02-07T09:51:03.779660Z"
    },
    "papermill": {
     "duration": 0.056049,
     "end_time": "2024-02-07T09:51:03.783954",
     "exception": false,
     "start_time": "2024-02-07T09:51:03.727905",
     "status": "completed"
    },
    "tags": []
   },
   "outputs": [],
   "source": [
    "# Loading the data set\n",
    "data = pd.read_csv('/kaggle/input/simple-linear-regression-01/1.01. Simple linear regression.csv')"
   ]
  },
  {
   "cell_type": "code",
   "execution_count": 3,
   "id": "32992dd6",
   "metadata": {
    "execution": {
     "iopub.execute_input": "2024-02-07T09:51:03.827499Z",
     "iopub.status.busy": "2024-02-07T09:51:03.827065Z",
     "iopub.status.idle": "2024-02-07T09:51:03.857957Z",
     "shell.execute_reply": "2024-02-07T09:51:03.857139Z"
    },
    "papermill": {
     "duration": 0.055231,
     "end_time": "2024-02-07T09:51:03.860171",
     "exception": false,
     "start_time": "2024-02-07T09:51:03.804940",
     "status": "completed"
    },
    "tags": []
   },
   "outputs": [
    {
     "data": {
      "text/html": [
       "<div>\n",
       "<style scoped>\n",
       "    .dataframe tbody tr th:only-of-type {\n",
       "        vertical-align: middle;\n",
       "    }\n",
       "\n",
       "    .dataframe tbody tr th {\n",
       "        vertical-align: top;\n",
       "    }\n",
       "\n",
       "    .dataframe thead th {\n",
       "        text-align: right;\n",
       "    }\n",
       "</style>\n",
       "<table border=\"1\" class=\"dataframe\">\n",
       "  <thead>\n",
       "    <tr style=\"text-align: right;\">\n",
       "      <th></th>\n",
       "      <th>SAT</th>\n",
       "      <th>GPA</th>\n",
       "    </tr>\n",
       "  </thead>\n",
       "  <tbody>\n",
       "    <tr>\n",
       "      <th>count</th>\n",
       "      <td>84.000000</td>\n",
       "      <td>84.000000</td>\n",
       "    </tr>\n",
       "    <tr>\n",
       "      <th>mean</th>\n",
       "      <td>1845.273810</td>\n",
       "      <td>3.330238</td>\n",
       "    </tr>\n",
       "    <tr>\n",
       "      <th>std</th>\n",
       "      <td>104.530661</td>\n",
       "      <td>0.271617</td>\n",
       "    </tr>\n",
       "    <tr>\n",
       "      <th>min</th>\n",
       "      <td>1634.000000</td>\n",
       "      <td>2.400000</td>\n",
       "    </tr>\n",
       "    <tr>\n",
       "      <th>25%</th>\n",
       "      <td>1772.000000</td>\n",
       "      <td>3.190000</td>\n",
       "    </tr>\n",
       "    <tr>\n",
       "      <th>50%</th>\n",
       "      <td>1846.000000</td>\n",
       "      <td>3.380000</td>\n",
       "    </tr>\n",
       "    <tr>\n",
       "      <th>75%</th>\n",
       "      <td>1934.000000</td>\n",
       "      <td>3.502500</td>\n",
       "    </tr>\n",
       "    <tr>\n",
       "      <th>max</th>\n",
       "      <td>2050.000000</td>\n",
       "      <td>3.810000</td>\n",
       "    </tr>\n",
       "  </tbody>\n",
       "</table>\n",
       "</div>"
      ],
      "text/plain": [
       "               SAT        GPA\n",
       "count    84.000000  84.000000\n",
       "mean   1845.273810   3.330238\n",
       "std     104.530661   0.271617\n",
       "min    1634.000000   2.400000\n",
       "25%    1772.000000   3.190000\n",
       "50%    1846.000000   3.380000\n",
       "75%    1934.000000   3.502500\n",
       "max    2050.000000   3.810000"
      ]
     },
     "execution_count": 3,
     "metadata": {},
     "output_type": "execute_result"
    }
   ],
   "source": [
    "# Descriptive statistics of the given data set\n",
    "data.describe()"
   ]
  },
  {
   "cell_type": "markdown",
   "id": "c603d1d9",
   "metadata": {
    "papermill": {
     "duration": 0.020334,
     "end_time": "2024-02-07T09:51:03.901601",
     "exception": false,
     "start_time": "2024-02-07T09:51:03.881267",
     "status": "completed"
    },
    "tags": []
   },
   "source": [
    "#### Note that:\n",
    "#### The SAT Scores are the total of Critical Reasoning + Mathematics + Writing.\n",
    "#### The GPA is the Grade Point Average (at Graduation from University)\n",
    "#### Using Simple Linear Regression we will predict the GPA from the SAT score of a student\n",
    "#### Using SAT score to predict GPA makes sense as almost all of the colleges in the USA use SAT score as a proxy for admission and the SAT stood the test of time and established itself as the leading exam for college admission"
   ]
  },
  {
   "cell_type": "code",
   "execution_count": 4,
   "id": "964522c2",
   "metadata": {
    "execution": {
     "iopub.execute_input": "2024-02-07T09:51:03.945468Z",
     "iopub.status.busy": "2024-02-07T09:51:03.945000Z",
     "iopub.status.idle": "2024-02-07T09:51:03.950380Z",
     "shell.execute_reply": "2024-02-07T09:51:03.949184Z"
    },
    "papermill": {
     "duration": 0.030872,
     "end_time": "2024-02-07T09:51:03.953156",
     "exception": false,
     "start_time": "2024-02-07T09:51:03.922284",
     "status": "completed"
    },
    "tags": []
   },
   "outputs": [],
   "source": [
    "# Defining the dependent (predicted) and independent (predictor) variables\n",
    "y = data ['GPA']\n",
    "x1 = data ['SAT']"
   ]
  },
  {
   "cell_type": "code",
   "execution_count": 5,
   "id": "c04ffc8a",
   "metadata": {
    "execution": {
     "iopub.execute_input": "2024-02-07T09:51:03.997362Z",
     "iopub.status.busy": "2024-02-07T09:51:03.996610Z",
     "iopub.status.idle": "2024-02-07T09:51:04.384039Z",
     "shell.execute_reply": "2024-02-07T09:51:04.382884Z"
    },
    "papermill": {
     "duration": 0.412463,
     "end_time": "2024-02-07T09:51:04.386839",
     "exception": false,
     "start_time": "2024-02-07T09:51:03.974376",
     "status": "completed"
    },
    "tags": []
   },
   "outputs": [
    {
     "data": {
      "image/png": "[encoded data removed]",
      "text/plain": [
       "<Figure size 640x480 with 1 Axes>"
      ]
     },
     "metadata": {},
     "output_type": "display_data"
    }
   ],
   "source": [
    "# Visualising and exploring the data\n",
    "plt.scatter(x1, y, c = 'blue')\n",
    "plt.xlabel('SAT', fontsize = 20)\n",
    "plt.ylabel('GPA', fontsize = 20)\n",
    "plt.show()"
   ]
  },
  {
   "cell_type": "code",
   "execution_count": 6,
   "id": "7f9e6ce6",
   "metadata": {
    "execution": {
     "iopub.execute_input": "2024-02-07T09:51:04.430684Z",
     "iopub.status.busy": "2024-02-07T09:51:04.430303Z",
     "iopub.status.idle": "2024-02-07T09:51:04.437191Z",
     "shell.execute_reply": "2024-02-07T09:51:04.436105Z"
    },
    "papermill": {
     "duration": 0.031519,
     "end_time": "2024-02-07T09:51:04.439389",
     "exception": false,
     "start_time": "2024-02-07T09:51:04.407870",
     "status": "completed"
    },
    "tags": []
   },
   "outputs": [],
   "source": [
    "# Adding a constant i.e. we add a new column (equal to the length of x) which consists of only 1s\n",
    "x = sm.add_constant(x1)"
   ]
  },
  {
   "cell_type": "code",
   "execution_count": 7,
   "id": "c593b392",
   "metadata": {
    "execution": {
     "iopub.execute_input": "2024-02-07T09:51:04.543998Z",
     "iopub.status.busy": "2024-02-07T09:51:04.543380Z",
     "iopub.status.idle": "2024-02-07T09:51:04.580658Z",
     "shell.execute_reply": "2024-02-07T09:51:04.579740Z"
    },
    "papermill": {
     "duration": 0.062088,
     "end_time": "2024-02-07T09:51:04.582902",
     "exception": false,
     "start_time": "2024-02-07T09:51:04.520814",
     "status": "completed"
    },
    "tags": []
   },
   "outputs": [
    {
     "data": {
      "text/html": [
       "<table class=\"simpletable\">\n",
       "<caption>OLS Regression Results</caption>\n",
       "<tr>\n",
       "  <th>Dep. Variable:</th>           <td>GPA</td>       <th>  R-squared:         </th> <td>   0.406</td>\n",
       "</tr>\n",
       "<tr>\n",
       "  <th>Model:</th>                   <td>OLS</td>       <th>  Adj. R-squared:    </th> <td>   0.399</td>\n",
       "</tr>\n",
       "<tr>\n",
       "  <th>Method:</th>             <td>Least Squares</td>  <th>  F-statistic:       </th> <td>   56.05</td>\n",
       "</tr>\n",
       "<tr>\n",
       "  <th>Date:</th>             <td>Wed, 07 Feb 2024</td> <th>  Prob (F-statistic):</th> <td>7.20e-11</td>\n",
       "</tr>\n",
       "<tr>\n",
       "  <th>Time:</th>                 <td>09:51:04</td>     <th>  Log-Likelihood:    </th> <td>  12.672</td>\n",
       "</tr>\n",
       "<tr>\n",
       "  <th>No. Observations:</th>      <td>    84</td>      <th>  AIC:               </th> <td>  -21.34</td>\n",
       "</tr>\n",
       "<tr>\n",
       "  <th>Df Residuals:</th>          <td>    82</td>      <th>  BIC:               </th> <td>  -16.48</td>\n",
       "</tr>\n",
       "<tr>\n",
       "  <th>Df Model:</th>              <td>     1</td>      <th>                     </th>     <td> </td>   \n",
       "</tr>\n",
       "<tr>\n",
       "  <th>Covariance Type:</th>      <td>nonrobust</td>    <th>                     </th>     <td> </td>   \n",
       "</tr>\n",
       "</table>\n",
       "<table class=\"simpletable\">\n",
       "<tr>\n",
       "    <td></td>       <th>coef</th>     <th>std err</th>      <th>t</th>      <th>P>|t|</th>  <th>[0.025</th>    <th>0.975]</th>  \n",
       "</tr>\n",
       "<tr>\n",
       "  <th>const</th> <td>    0.2750</td> <td>    0.409</td> <td>    0.673</td> <td> 0.503</td> <td>   -0.538</td> <td>    1.088</td>\n",
       "</tr>\n",
       "<tr>\n",
       "  <th>SAT</th>   <td>    0.0017</td> <td>    0.000</td> <td>    7.487</td> <td> 0.000</td> <td>    0.001</td> <td>    0.002</td>\n",
       "</tr>\n",
       "</table>\n",
       "<table class=\"simpletable\">\n",
       "<tr>\n",
       "  <th>Omnibus:</th>       <td>12.839</td> <th>  Durbin-Watson:     </th> <td>   0.950</td>\n",
       "</tr>\n",
       "<tr>\n",
       "  <th>Prob(Omnibus):</th> <td> 0.002</td> <th>  Jarque-Bera (JB):  </th> <td>  16.155</td>\n",
       "</tr>\n",
       "<tr>\n",
       "  <th>Skew:</th>          <td>-0.722</td> <th>  Prob(JB):          </th> <td>0.000310</td>\n",
       "</tr>\n",
       "<tr>\n",
       "  <th>Kurtosis:</th>      <td> 4.590</td> <th>  Cond. No.          </th> <td>3.29e+04</td>\n",
       "</tr>\n",
       "</table><br/><br/>Notes:<br/>[1] Standard Errors assume that the covariance matrix of the errors is correctly specified.<br/>[2] The condition number is large, 3.29e+04. This might indicate that there are<br/>strong multicollinearity or other numerical problems."
      ],
      "text/latex": [
       "\\begin{center}\n",
       "\\begin{tabular}{lclc}\n",
       "\\toprule\n",
       "\\textbf{Dep. Variable:}    &       GPA        & \\textbf{  R-squared:         } &     0.406   \\\\\n",
       "\\textbf{Model:}            &       OLS        & \\textbf{  Adj. R-squared:    } &     0.399   \\\\\n",
       "\\textbf{Method:}           &  Least Squares   & \\textbf{  F-statistic:       } &     56.05   \\\\\n",
       "\\textbf{Date:}             & Wed, 07 Feb 2024 & \\textbf{  Prob (F-statistic):} &  7.20e-11   \\\\\n",
       "\\textbf{Time:}             &     09:51:04     & \\textbf{  Log-Likelihood:    } &    12.672   \\\\\n",
       "\\textbf{No. Observations:} &          84      & \\textbf{  AIC:               } &    -21.34   \\\\\n",
       "\\textbf{Df Residuals:}     &          82      & \\textbf{  BIC:               } &    -16.48   \\\\\n",
       "\\textbf{Df Model:}         &           1      & \\textbf{                     } &             \\\\\n",
       "\\textbf{Covariance Type:}  &    nonrobust     & \\textbf{                     } &             \\\\\n",
       "\\bottomrule\n",
       "\\end{tabular}\n",
       "\\begin{tabular}{lcccccc}\n",
       "               & \\textbf{coef} & \\textbf{std err} & \\textbf{t} & \\textbf{P$> |$t$|$} & \\textbf{[0.025} & \\textbf{0.975]}  \\\\\n",
       "\\midrule\n",
       "\\textbf{const} &       0.2750  &        0.409     &     0.673  &         0.503        &       -0.538    &        1.088     \\\\\n",
       "\\textbf{SAT}   &       0.0017  &        0.000     &     7.487  &         0.000        &        0.001    &        0.002     \\\\\n",
       "\\bottomrule\n",
       "\\end{tabular}\n",
       "\\begin{tabular}{lclc}\n",
       "\\textbf{Omnibus:}       & 12.839 & \\textbf{  Durbin-Watson:     } &    0.950  \\\\\n",
       "\\textbf{Prob(Omnibus):} &  0.002 & \\textbf{  Jarque-Bera (JB):  } &   16.155  \\\\\n",
       "\\textbf{Skew:}          & -0.722 & \\textbf{  Prob(JB):          } & 0.000310  \\\\\n",
       "\\textbf{Kurtosis:}      &  4.590 & \\textbf{  Cond. No.          } & 3.29e+04  \\\\\n",
       "\\bottomrule\n",
       "\\end{tabular}\n",
       "%\\caption{OLS Regression Results}\n",
       "\\end{center}\n",
       "\n",
       "Notes: \\newline\n",
       " [1] Standard Errors assume that the covariance matrix of the errors is correctly specified. \\newline\n",
       " [2] The condition number is large, 3.29e+04. This might indicate that there are \\newline\n",
       " strong multicollinearity or other numerical problems."
      ],
      "text/plain": [
       "<class 'statsmodels.iolib.summary.Summary'>\n",
       "\"\"\"\n",
       "                            OLS Regression Results                            \n",
       "==============================================================================\n",
       "Dep. Variable:                    GPA   R-squared:                       0.406\n",
       "Model:                            OLS   Adj. R-squared:                  0.399\n",
       "Method:                 Least Squares   F-statistic:                     56.05\n",
       "Date:                Wed, 07 Feb 2024   Prob (F-statistic):           7.20e-11\n",
       "Time:                        09:51:04   Log-Likelihood:                 12.672\n",
       "No. Observations:                  84   AIC:                            -21.34\n",
       "Df Residuals:                      82   BIC:                            -16.48\n",
       "Df Model:                           1                                         \n",
       "Covariance Type:            nonrobust                                         \n",
       "==============================================================================\n",
       "                 coef    std err          t      P>|t|      [0.025      0.975]\n",
       "------------------------------------------------------------------------------\n",
       "const          0.2750      0.409      0.673      0.503      -0.538       1.088\n",
       "SAT            0.0017      0.000      7.487      0.000       0.001       0.002\n",
       "==============================================================================\n",
       "Omnibus:                       12.839   Durbin-Watson:                   0.950\n",
       "Prob(Omnibus):                  0.002   Jarque-Bera (JB):               16.155\n",
       "Skew:                          -0.722   Prob(JB):                     0.000310\n",
       "Kurtosis:                       4.590   Cond. No.                     3.29e+04\n",
       "==============================================================================\n",
       "\n",
       "Notes:\n",
       "[1] Standard Errors assume that the covariance matrix of the errors is correctly specified.\n",
       "[2] The condition number is large, 3.29e+04. This might indicate that there are\n",
       "strong multicollinearity or other numerical problems.\n",
       "\"\"\""
      ]
     },
     "execution_count": 7,
     "metadata": {},
     "output_type": "execute_result"
    }
   ],
   "source": [
    "# We now fit the model using Ordinary Least Squares (OLS) method with a dependent variable y and independent variable x\n",
    "results = sm.OLS(y,x).fit()\n",
    "\n",
    "# Printing the summary of the regression\n",
    "results.summary()"
   ]
  },
  {
   "cell_type": "markdown",
   "id": "7e9f8d4c",
   "metadata": {
    "papermill": {
     "duration": 0.02152,
     "end_time": "2024-02-07T09:51:04.626301",
     "exception": false,
     "start_time": "2024-02-07T09:51:04.604781",
     "status": "completed"
    },
    "tags": []
   },
   "source": [
    "#### The regression equation we get is:\n",
    "#### $ GPA = 0.2750 + 0.0017*SAT $\n",
    "\n",
    "Other observations:\n",
    "1. The SAT score is a significant variable when predicting the GPA *(p < 0.05)*\n",
    "2. This model having the SAT score of the student explains 40.60% of the variation in the GPA score the student ($R^2 = 0.406$)\n",
    "\n",
    "We now proceed to plot the regression line."
   ]
  },
  {
   "cell_type": "code",
   "execution_count": 8,
   "id": "4093b8ef",
   "metadata": {
    "execution": {
     "iopub.execute_input": "2024-02-07T09:51:04.673258Z",
     "iopub.status.busy": "2024-02-07T09:51:04.672632Z",
     "iopub.status.idle": "2024-02-07T09:51:05.006771Z",
     "shell.execute_reply": "2024-02-07T09:51:05.005617Z"
    },
    "papermill": {
     "duration": 0.361344,
     "end_time": "2024-02-07T09:51:05.009313",
     "exception": false,
     "start_time": "2024-02-07T09:51:04.647969",
     "status": "completed"
    },
    "tags": []
   },
   "outputs": [
    {
     "data": {
      "image/png": "[encoded data removed]",
      "text/plain": [
       "<Figure size 640x480 with 1 Axes>"
      ]
     },
     "metadata": {},
     "output_type": "display_data"
    }
   ],
   "source": [
    "# Creating the scatter plot:\n",
    "plt.scatter(x1, y, c = 'blue')\n",
    "plt.xlabel('SAT', fontsize = 20)\n",
    "plt.ylabel('GPA', fontsize = 20)\n",
    "\n",
    "# Defining the regression equation:\n",
    "yhat = 0.0017*x1 + 0.275\n",
    "\n",
    "# Plotting the regression line\n",
    "reg_line_figure = plt.plot(x1, yhat, c = 'brown', lw = '2.5', label = 'Regression Line')\n",
    "plt.show()"
   ]
  },
  {
   "cell_type": "markdown",
   "id": "14314d71",
   "metadata": {
    "papermill": {
     "duration": 0.022396,
     "end_time": "2024-02-07T09:51:05.053881",
     "exception": false,
     "start_time": "2024-02-07T09:51:05.031485",
     "status": "completed"
    },
    "tags": []
   },
   "source": [
    "#### Now we predict the GPA scores of the following students using the above model:\n",
    "#### 1. Alice who scored 1720 in SAT\n",
    "#### 2. Bob who scored 1800 in SAT"
   ]
  },
  {
   "cell_type": "code",
   "execution_count": 9,
   "id": "82578f41",
   "metadata": {
    "execution": {
     "iopub.execute_input": "2024-02-07T09:51:05.099779Z",
     "iopub.status.busy": "2024-02-07T09:51:05.099359Z",
     "iopub.status.idle": "2024-02-07T09:51:05.113936Z",
     "shell.execute_reply": "2024-02-07T09:51:05.112863Z"
    },
    "papermill": {
     "duration": 0.040536,
     "end_time": "2024-02-07T09:51:05.116562",
     "exception": false,
     "start_time": "2024-02-07T09:51:05.076026",
     "status": "completed"
    },
    "tags": []
   },
   "outputs": [
    {
     "data": {
      "text/html": [
       "<div>\n",
       "<style scoped>\n",
       "    .dataframe tbody tr th:only-of-type {\n",
       "        vertical-align: middle;\n",
       "    }\n",
       "\n",
       "    .dataframe tbody tr th {\n",
       "        vertical-align: top;\n",
       "    }\n",
       "\n",
       "    .dataframe thead th {\n",
       "        text-align: right;\n",
       "    }\n",
       "</style>\n",
       "<table border=\"1\" class=\"dataframe\">\n",
       "  <thead>\n",
       "    <tr style=\"text-align: right;\">\n",
       "      <th></th>\n",
       "      <th>const</th>\n",
       "      <th>SAT</th>\n",
       "    </tr>\n",
       "  </thead>\n",
       "  <tbody>\n",
       "    <tr>\n",
       "      <th>0</th>\n",
       "      <td>1.0</td>\n",
       "      <td>1714</td>\n",
       "    </tr>\n",
       "    <tr>\n",
       "      <th>1</th>\n",
       "      <td>1.0</td>\n",
       "      <td>1664</td>\n",
       "    </tr>\n",
       "    <tr>\n",
       "      <th>2</th>\n",
       "      <td>1.0</td>\n",
       "      <td>1760</td>\n",
       "    </tr>\n",
       "    <tr>\n",
       "      <th>3</th>\n",
       "      <td>1.0</td>\n",
       "      <td>1685</td>\n",
       "    </tr>\n",
       "    <tr>\n",
       "      <th>4</th>\n",
       "      <td>1.0</td>\n",
       "      <td>1693</td>\n",
       "    </tr>\n",
       "    <tr>\n",
       "      <th>...</th>\n",
       "      <td>...</td>\n",
       "      <td>...</td>\n",
       "    </tr>\n",
       "    <tr>\n",
       "      <th>79</th>\n",
       "      <td>1.0</td>\n",
       "      <td>1936</td>\n",
       "    </tr>\n",
       "    <tr>\n",
       "      <th>80</th>\n",
       "      <td>1.0</td>\n",
       "      <td>1810</td>\n",
       "    </tr>\n",
       "    <tr>\n",
       "      <th>81</th>\n",
       "      <td>1.0</td>\n",
       "      <td>1987</td>\n",
       "    </tr>\n",
       "    <tr>\n",
       "      <th>82</th>\n",
       "      <td>1.0</td>\n",
       "      <td>1962</td>\n",
       "    </tr>\n",
       "    <tr>\n",
       "      <th>83</th>\n",
       "      <td>1.0</td>\n",
       "      <td>2050</td>\n",
       "    </tr>\n",
       "  </tbody>\n",
       "</table>\n",
       "<p>84 rows × 2 columns</p>\n",
       "</div>"
      ],
      "text/plain": [
       "    const   SAT\n",
       "0     1.0  1714\n",
       "1     1.0  1664\n",
       "2     1.0  1760\n",
       "3     1.0  1685\n",
       "4     1.0  1693\n",
       "..    ...   ...\n",
       "79    1.0  1936\n",
       "80    1.0  1810\n",
       "81    1.0  1987\n",
       "82    1.0  1962\n",
       "83    1.0  2050\n",
       "\n",
       "[84 rows x 2 columns]"
      ]
     },
     "execution_count": 9,
     "metadata": {},
     "output_type": "execute_result"
    }
   ],
   "source": [
    "# Glancing the predictor variable x, as we will need to prepare a new similar dataframe\n",
    "x"
   ]
  },
  {
   "cell_type": "code",
   "execution_count": 10,
   "id": "11aa51b9",
   "metadata": {
    "execution": {
     "iopub.execute_input": "2024-02-07T09:51:05.163860Z",
     "iopub.status.busy": "2024-02-07T09:51:05.163462Z",
     "iopub.status.idle": "2024-02-07T09:51:05.175828Z",
     "shell.execute_reply": "2024-02-07T09:51:05.174642Z"
    },
    "papermill": {
     "duration": 0.038746,
     "end_time": "2024-02-07T09:51:05.178197",
     "exception": false,
     "start_time": "2024-02-07T09:51:05.139451",
     "status": "completed"
    },
    "tags": []
   },
   "outputs": [
    {
     "data": {
      "text/html": [
       "<div>\n",
       "<style scoped>\n",
       "    .dataframe tbody tr th:only-of-type {\n",
       "        vertical-align: middle;\n",
       "    }\n",
       "\n",
       "    .dataframe tbody tr th {\n",
       "        vertical-align: top;\n",
       "    }\n",
       "\n",
       "    .dataframe thead th {\n",
       "        text-align: right;\n",
       "    }\n",
       "</style>\n",
       "<table border=\"1\" class=\"dataframe\">\n",
       "  <thead>\n",
       "    <tr style=\"text-align: right;\">\n",
       "      <th></th>\n",
       "      <th>const</th>\n",
       "      <th>SAT</th>\n",
       "    </tr>\n",
       "  </thead>\n",
       "  <tbody>\n",
       "    <tr>\n",
       "      <th>Alice</th>\n",
       "      <td>1</td>\n",
       "      <td>1720</td>\n",
       "    </tr>\n",
       "    <tr>\n",
       "      <th>Bob</th>\n",
       "      <td>1</td>\n",
       "      <td>1800</td>\n",
       "    </tr>\n",
       "  </tbody>\n",
       "</table>\n",
       "</div>"
      ],
      "text/plain": [
       "       const   SAT\n",
       "Alice      1  1720\n",
       "Bob        1  1800"
      ]
     },
     "execution_count": 10,
     "metadata": {},
     "output_type": "execute_result"
    }
   ],
   "source": [
    "# Creating a new data frame to include the SAT scores of the students whose GPA is to be predicted\n",
    "to_predict = pd.DataFrame({'const': 1, 'SAT': [1720, 1800]})\n",
    "to_predict.rename(index = {0: 'Alice', 1: 'Bob'})"
   ]
  },
  {
   "cell_type": "code",
   "execution_count": 11,
   "id": "75e76e40",
   "metadata": {
    "execution": {
     "iopub.execute_input": "2024-02-07T09:51:05.226252Z",
     "iopub.status.busy": "2024-02-07T09:51:05.225578Z",
     "iopub.status.idle": "2024-02-07T09:51:05.235137Z",
     "shell.execute_reply": "2024-02-07T09:51:05.233906Z"
    },
    "papermill": {
     "duration": 0.036274,
     "end_time": "2024-02-07T09:51:05.237370",
     "exception": false,
     "start_time": "2024-02-07T09:51:05.201096",
     "status": "completed"
    },
    "tags": []
   },
   "outputs": [
    {
     "data": {
      "text/plain": [
       "Alice    3.122824\n",
       "Bob      3.255279\n",
       "dtype: float64"
      ]
     },
     "execution_count": 11,
     "metadata": {},
     "output_type": "execute_result"
    }
   ],
   "source": [
    "# Predicting the GPA scores of Alice & Bob\n",
    "predictions = results.predict(to_predict)\n",
    "predictions.rename(index = {0: 'Alice', 1: 'Bob'})"
   ]
  },
  {
   "cell_type": "markdown",
   "id": "42eebf88",
   "metadata": {
    "papermill": {
     "duration": 0.02296,
     "end_time": "2024-02-07T09:51:05.283909",
     "exception": false,
     "start_time": "2024-02-07T09:51:05.260949",
     "status": "completed"
    },
    "tags": []
   },
   "source": [
    "#### As per the above model, the predicted GPA of Alice is 3.12 while the predicted score of Bob is 3.26\n",
    "\n",
    "-------------------------------------------------------------------------"
   ]
  },
  {
   "cell_type": "markdown",
   "id": "d072f02e",
   "metadata": {
    "papermill": {
     "duration": 0.022979,
     "end_time": "2024-02-07T09:51:05.330885",
     "exception": false,
     "start_time": "2024-02-07T09:51:05.307906",
     "status": "completed"
    },
    "tags": []
   },
   "source": [
    "<a id=\"3\"></a>\n",
    "## 1.2 Preparing a Simple Linear Regression Model using Real estate data (Price vs Size)"
   ]
  },
  {
   "cell_type": "code",
   "execution_count": 12,
   "id": "5df03c15",
   "metadata": {
    "execution": {
     "iopub.execute_input": "2024-02-07T09:51:05.380317Z",
     "iopub.status.busy": "2024-02-07T09:51:05.379893Z",
     "iopub.status.idle": "2024-02-07T09:51:05.386426Z",
     "shell.execute_reply": "2024-02-07T09:51:05.385204Z"
    },
    "papermill": {
     "duration": 0.034461,
     "end_time": "2024-02-07T09:51:05.388902",
     "exception": false,
     "start_time": "2024-02-07T09:51:05.354441",
     "status": "completed"
    },
    "tags": []
   },
   "outputs": [],
   "source": [
    "import numpy as np\n",
    "import pandas as pd\n",
    "import matplotlib.pyplot as plt\n",
    "import statsmodels.api as sm\n",
    "import seaborn as sns\n",
    "# Setting the styles to Seaborn\n",
    "sns.set()"
   ]
  },
  {
   "cell_type": "code",
   "execution_count": 13,
   "id": "f27d3ea7",
   "metadata": {
    "execution": {
     "iopub.execute_input": "2024-02-07T09:51:05.436976Z",
     "iopub.status.busy": "2024-02-07T09:51:05.436612Z",
     "iopub.status.idle": "2024-02-07T09:51:05.457743Z",
     "shell.execute_reply": "2024-02-07T09:51:05.456689Z"
    },
    "papermill": {
     "duration": 0.048355,
     "end_time": "2024-02-07T09:51:05.460267",
     "exception": false,
     "start_time": "2024-02-07T09:51:05.411912",
     "status": "completed"
    },
    "tags": []
   },
   "outputs": [],
   "source": [
    "# Loading the data set\n",
    "\n",
    "real_estate_data = pd.read_csv('/kaggle/input/k-means-all-datasets/k_means_all_datasets/real_estate_price_size.csv')"
   ]
  },
  {
   "cell_type": "markdown",
   "id": "3906c7c4",
   "metadata": {
    "papermill": {
     "duration": 0.022896,
     "end_time": "2024-02-07T09:51:05.506255",
     "exception": false,
     "start_time": "2024-02-07T09:51:05.483359",
     "status": "completed"
    },
    "tags": []
   },
   "source": [
    "#### The given dataset contains the price of the apartments (in US$) and the size of the apartment (in square feet) in one of the topmost US metropolitan cities."
   ]
  },
  {
   "cell_type": "code",
   "execution_count": 14,
   "id": "c569e11c",
   "metadata": {
    "execution": {
     "iopub.execute_input": "2024-02-07T09:51:05.554191Z",
     "iopub.status.busy": "2024-02-07T09:51:05.553750Z",
     "iopub.status.idle": "2024-02-07T09:51:05.567414Z",
     "shell.execute_reply": "2024-02-07T09:51:05.566578Z"
    },
    "papermill": {
     "duration": 0.040246,
     "end_time": "2024-02-07T09:51:05.569692",
     "exception": false,
     "start_time": "2024-02-07T09:51:05.529446",
     "status": "completed"
    },
    "tags": []
   },
   "outputs": [
    {
     "data": {
      "text/html": [
       "<div>\n",
       "<style scoped>\n",
       "    .dataframe tbody tr th:only-of-type {\n",
       "        vertical-align: middle;\n",
       "    }\n",
       "\n",
       "    .dataframe tbody tr th {\n",
       "        vertical-align: top;\n",
       "    }\n",
       "\n",
       "    .dataframe thead th {\n",
       "        text-align: right;\n",
       "    }\n",
       "</style>\n",
       "<table border=\"1\" class=\"dataframe\">\n",
       "  <thead>\n",
       "    <tr style=\"text-align: right;\">\n",
       "      <th></th>\n",
       "      <th>price</th>\n",
       "      <th>size</th>\n",
       "    </tr>\n",
       "  </thead>\n",
       "  <tbody>\n",
       "    <tr>\n",
       "      <th>0</th>\n",
       "      <td>234314.144</td>\n",
       "      <td>643.09</td>\n",
       "    </tr>\n",
       "    <tr>\n",
       "      <th>1</th>\n",
       "      <td>228581.528</td>\n",
       "      <td>656.22</td>\n",
       "    </tr>\n",
       "    <tr>\n",
       "      <th>2</th>\n",
       "      <td>281626.336</td>\n",
       "      <td>487.29</td>\n",
       "    </tr>\n",
       "    <tr>\n",
       "      <th>3</th>\n",
       "      <td>401255.608</td>\n",
       "      <td>1504.75</td>\n",
       "    </tr>\n",
       "    <tr>\n",
       "      <th>4</th>\n",
       "      <td>458674.256</td>\n",
       "      <td>1275.46</td>\n",
       "    </tr>\n",
       "    <tr>\n",
       "      <th>...</th>\n",
       "      <td>...</td>\n",
       "      <td>...</td>\n",
       "    </tr>\n",
       "    <tr>\n",
       "      <th>95</th>\n",
       "      <td>252460.400</td>\n",
       "      <td>549.80</td>\n",
       "    </tr>\n",
       "    <tr>\n",
       "      <th>96</th>\n",
       "      <td>310522.592</td>\n",
       "      <td>1037.44</td>\n",
       "    </tr>\n",
       "    <tr>\n",
       "      <th>97</th>\n",
       "      <td>383635.568</td>\n",
       "      <td>1504.75</td>\n",
       "    </tr>\n",
       "    <tr>\n",
       "      <th>98</th>\n",
       "      <td>225145.248</td>\n",
       "      <td>648.29</td>\n",
       "    </tr>\n",
       "    <tr>\n",
       "      <th>99</th>\n",
       "      <td>274922.856</td>\n",
       "      <td>705.29</td>\n",
       "    </tr>\n",
       "  </tbody>\n",
       "</table>\n",
       "<p>100 rows × 2 columns</p>\n",
       "</div>"
      ],
      "text/plain": [
       "         price     size\n",
       "0   234314.144   643.09\n",
       "1   228581.528   656.22\n",
       "2   281626.336   487.29\n",
       "3   401255.608  1504.75\n",
       "4   458674.256  1275.46\n",
       "..         ...      ...\n",
       "95  252460.400   549.80\n",
       "96  310522.592  1037.44\n",
       "97  383635.568  1504.75\n",
       "98  225145.248   648.29\n",
       "99  274922.856   705.29\n",
       "\n",
       "[100 rows x 2 columns]"
      ]
     },
     "execution_count": 14,
     "metadata": {},
     "output_type": "execute_result"
    }
   ],
   "source": [
    "# Having a glance at the dataset\n",
    "real_estate_data"
   ]
  },
  {
   "cell_type": "code",
   "execution_count": 15,
   "id": "0357f438",
   "metadata": {
    "execution": {
     "iopub.execute_input": "2024-02-07T09:51:05.619328Z",
     "iopub.status.busy": "2024-02-07T09:51:05.618357Z",
     "iopub.status.idle": "2024-02-07T09:51:05.635433Z",
     "shell.execute_reply": "2024-02-07T09:51:05.634602Z"
    },
    "papermill": {
     "duration": 0.044675,
     "end_time": "2024-02-07T09:51:05.637649",
     "exception": false,
     "start_time": "2024-02-07T09:51:05.592974",
     "status": "completed"
    },
    "tags": []
   },
   "outputs": [
    {
     "data": {
      "text/html": [
       "<div>\n",
       "<style scoped>\n",
       "    .dataframe tbody tr th:only-of-type {\n",
       "        vertical-align: middle;\n",
       "    }\n",
       "\n",
       "    .dataframe tbody tr th {\n",
       "        vertical-align: top;\n",
       "    }\n",
       "\n",
       "    .dataframe thead th {\n",
       "        text-align: right;\n",
       "    }\n",
       "</style>\n",
       "<table border=\"1\" class=\"dataframe\">\n",
       "  <thead>\n",
       "    <tr style=\"text-align: right;\">\n",
       "      <th></th>\n",
       "      <th>price</th>\n",
       "      <th>size</th>\n",
       "    </tr>\n",
       "  </thead>\n",
       "  <tbody>\n",
       "    <tr>\n",
       "      <th>count</th>\n",
       "      <td>100.000000</td>\n",
       "      <td>100.000000</td>\n",
       "    </tr>\n",
       "    <tr>\n",
       "      <th>mean</th>\n",
       "      <td>292289.470160</td>\n",
       "      <td>853.024200</td>\n",
       "    </tr>\n",
       "    <tr>\n",
       "      <th>std</th>\n",
       "      <td>77051.727525</td>\n",
       "      <td>297.941951</td>\n",
       "    </tr>\n",
       "    <tr>\n",
       "      <th>min</th>\n",
       "      <td>154282.128000</td>\n",
       "      <td>479.750000</td>\n",
       "    </tr>\n",
       "    <tr>\n",
       "      <th>25%</th>\n",
       "      <td>234280.148000</td>\n",
       "      <td>643.330000</td>\n",
       "    </tr>\n",
       "    <tr>\n",
       "      <th>50%</th>\n",
       "      <td>280590.716000</td>\n",
       "      <td>696.405000</td>\n",
       "    </tr>\n",
       "    <tr>\n",
       "      <th>75%</th>\n",
       "      <td>335723.696000</td>\n",
       "      <td>1029.322500</td>\n",
       "    </tr>\n",
       "    <tr>\n",
       "      <th>max</th>\n",
       "      <td>500681.128000</td>\n",
       "      <td>1842.510000</td>\n",
       "    </tr>\n",
       "  </tbody>\n",
       "</table>\n",
       "</div>"
      ],
      "text/plain": [
       "               price         size\n",
       "count     100.000000   100.000000\n",
       "mean   292289.470160   853.024200\n",
       "std     77051.727525   297.941951\n",
       "min    154282.128000   479.750000\n",
       "25%    234280.148000   643.330000\n",
       "50%    280590.716000   696.405000\n",
       "75%    335723.696000  1029.322500\n",
       "max    500681.128000  1842.510000"
      ]
     },
     "execution_count": 15,
     "metadata": {},
     "output_type": "execute_result"
    }
   ],
   "source": [
    "#  Descriptive statistics of the given dataset\n",
    "real_estate_data.describe()"
   ]
  },
  {
   "cell_type": "code",
   "execution_count": 16,
   "id": "8ebe76b7",
   "metadata": {
    "execution": {
     "iopub.execute_input": "2024-02-07T09:51:05.689180Z",
     "iopub.status.busy": "2024-02-07T09:51:05.688451Z",
     "iopub.status.idle": "2024-02-07T09:51:05.692927Z",
     "shell.execute_reply": "2024-02-07T09:51:05.692184Z"
    },
    "papermill": {
     "duration": 0.032013,
     "end_time": "2024-02-07T09:51:05.695213",
     "exception": false,
     "start_time": "2024-02-07T09:51:05.663200",
     "status": "completed"
    },
    "tags": []
   },
   "outputs": [],
   "source": [
    "# Defining the dependent (predicted) and independent (predictor) variables\n",
    "\n",
    "y = real_estate_data['price']\n",
    "x1 = real_estate_data['size']"
   ]
  },
  {
   "cell_type": "code",
   "execution_count": 17,
   "id": "edfc5333",
   "metadata": {
    "execution": {
     "iopub.execute_input": "2024-02-07T09:51:05.745015Z",
     "iopub.status.busy": "2024-02-07T09:51:05.744293Z",
     "iopub.status.idle": "2024-02-07T09:51:06.117564Z",
     "shell.execute_reply": "2024-02-07T09:51:06.116381Z"
    },
    "papermill": {
     "duration": 0.401087,
     "end_time": "2024-02-07T09:51:06.120256",
     "exception": false,
     "start_time": "2024-02-07T09:51:05.719169",
     "status": "completed"
    },
    "tags": []
   },
   "outputs": [
    {
     "data": {
      "image/png": "[encoded data removed]",
      "text/plain": [
       "<Figure size 640x480 with 1 Axes>"
      ]
     },
     "metadata": {},
     "output_type": "display_data"
    }
   ],
   "source": [
    "# Visualising and exploring the data\n",
    "\n",
    "plt.scatter(x1,y, c='blue')\n",
    "plt.xlabel('Size (in sq. feet)',fontsize=20)\n",
    "plt.ylabel('Price (in US$)',fontsize=20)\n",
    "plt.show()"
   ]
  },
  {
   "cell_type": "code",
   "execution_count": 18,
   "id": "0765a86d",
   "metadata": {
    "execution": {
     "iopub.execute_input": "2024-02-07T09:51:06.170647Z",
     "iopub.status.busy": "2024-02-07T09:51:06.170227Z",
     "iopub.status.idle": "2024-02-07T09:51:06.206204Z",
     "shell.execute_reply": "2024-02-07T09:51:06.205070Z"
    },
    "papermill": {
     "duration": 0.063826,
     "end_time": "2024-02-07T09:51:06.208468",
     "exception": false,
     "start_time": "2024-02-07T09:51:06.144642",
     "status": "completed"
    },
    "tags": []
   },
   "outputs": [
    {
     "data": {
      "text/html": [
       "<table class=\"simpletable\">\n",
       "<caption>OLS Regression Results</caption>\n",
       "<tr>\n",
       "  <th>Dep. Variable:</th>          <td>price</td>      <th>  R-squared:         </th> <td>   0.745</td>\n",
       "</tr>\n",
       "<tr>\n",
       "  <th>Model:</th>                   <td>OLS</td>       <th>  Adj. R-squared:    </th> <td>   0.742</td>\n",
       "</tr>\n",
       "<tr>\n",
       "  <th>Method:</th>             <td>Least Squares</td>  <th>  F-statistic:       </th> <td>   285.9</td>\n",
       "</tr>\n",
       "<tr>\n",
       "  <th>Date:</th>             <td>Wed, 07 Feb 2024</td> <th>  Prob (F-statistic):</th> <td>8.13e-31</td>\n",
       "</tr>\n",
       "<tr>\n",
       "  <th>Time:</th>                 <td>09:51:06</td>     <th>  Log-Likelihood:    </th> <td> -1198.3</td>\n",
       "</tr>\n",
       "<tr>\n",
       "  <th>No. Observations:</th>      <td>   100</td>      <th>  AIC:               </th> <td>   2401.</td>\n",
       "</tr>\n",
       "<tr>\n",
       "  <th>Df Residuals:</th>          <td>    98</td>      <th>  BIC:               </th> <td>   2406.</td>\n",
       "</tr>\n",
       "<tr>\n",
       "  <th>Df Model:</th>              <td>     1</td>      <th>                     </th>     <td> </td>   \n",
       "</tr>\n",
       "<tr>\n",
       "  <th>Covariance Type:</th>      <td>nonrobust</td>    <th>                     </th>     <td> </td>   \n",
       "</tr>\n",
       "</table>\n",
       "<table class=\"simpletable\">\n",
       "<tr>\n",
       "    <td></td>       <th>coef</th>     <th>std err</th>      <th>t</th>      <th>P>|t|</th>  <th>[0.025</th>    <th>0.975]</th>  \n",
       "</tr>\n",
       "<tr>\n",
       "  <th>const</th> <td> 1.019e+05</td> <td> 1.19e+04</td> <td>    8.550</td> <td> 0.000</td> <td> 7.83e+04</td> <td> 1.26e+05</td>\n",
       "</tr>\n",
       "<tr>\n",
       "  <th>size</th>  <td>  223.1787</td> <td>   13.199</td> <td>   16.909</td> <td> 0.000</td> <td>  196.986</td> <td>  249.371</td>\n",
       "</tr>\n",
       "</table>\n",
       "<table class=\"simpletable\">\n",
       "<tr>\n",
       "  <th>Omnibus:</th>       <td> 6.262</td> <th>  Durbin-Watson:     </th> <td>   2.267</td>\n",
       "</tr>\n",
       "<tr>\n",
       "  <th>Prob(Omnibus):</th> <td> 0.044</td> <th>  Jarque-Bera (JB):  </th> <td>   2.938</td>\n",
       "</tr>\n",
       "<tr>\n",
       "  <th>Skew:</th>          <td> 0.117</td> <th>  Prob(JB):          </th> <td>   0.230</td>\n",
       "</tr>\n",
       "<tr>\n",
       "  <th>Kurtosis:</th>      <td> 2.194</td> <th>  Cond. No.          </th> <td>2.75e+03</td>\n",
       "</tr>\n",
       "</table><br/><br/>Notes:<br/>[1] Standard Errors assume that the covariance matrix of the errors is correctly specified.<br/>[2] The condition number is large, 2.75e+03. This might indicate that there are<br/>strong multicollinearity or other numerical problems."
      ],
      "text/latex": [
       "\\begin{center}\n",
       "\\begin{tabular}{lclc}\n",
       "\\toprule\n",
       "\\textbf{Dep. Variable:}    &      price       & \\textbf{  R-squared:         } &     0.745   \\\\\n",
       "\\textbf{Model:}            &       OLS        & \\textbf{  Adj. R-squared:    } &     0.742   \\\\\n",
       "\\textbf{Method:}           &  Least Squares   & \\textbf{  F-statistic:       } &     285.9   \\\\\n",
       "\\textbf{Date:}             & Wed, 07 Feb 2024 & \\textbf{  Prob (F-statistic):} &  8.13e-31   \\\\\n",
       "\\textbf{Time:}             &     09:51:06     & \\textbf{  Log-Likelihood:    } &   -1198.3   \\\\\n",
       "\\textbf{No. Observations:} &         100      & \\textbf{  AIC:               } &     2401.   \\\\\n",
       "\\textbf{Df Residuals:}     &          98      & \\textbf{  BIC:               } &     2406.   \\\\\n",
       "\\textbf{Df Model:}         &           1      & \\textbf{                     } &             \\\\\n",
       "\\textbf{Covariance Type:}  &    nonrobust     & \\textbf{                     } &             \\\\\n",
       "\\bottomrule\n",
       "\\end{tabular}\n",
       "\\begin{tabular}{lcccccc}\n",
       "               & \\textbf{coef} & \\textbf{std err} & \\textbf{t} & \\textbf{P$> |$t$|$} & \\textbf{[0.025} & \\textbf{0.975]}  \\\\\n",
       "\\midrule\n",
       "\\textbf{const} &    1.019e+05  &     1.19e+04     &     8.550  &         0.000        &     7.83e+04    &     1.26e+05     \\\\\n",
       "\\textbf{size}  &     223.1787  &       13.199     &    16.909  &         0.000        &      196.986    &      249.371     \\\\\n",
       "\\bottomrule\n",
       "\\end{tabular}\n",
       "\\begin{tabular}{lclc}\n",
       "\\textbf{Omnibus:}       &  6.262 & \\textbf{  Durbin-Watson:     } &    2.267  \\\\\n",
       "\\textbf{Prob(Omnibus):} &  0.044 & \\textbf{  Jarque-Bera (JB):  } &    2.938  \\\\\n",
       "\\textbf{Skew:}          &  0.117 & \\textbf{  Prob(JB):          } &    0.230  \\\\\n",
       "\\textbf{Kurtosis:}      &  2.194 & \\textbf{  Cond. No.          } & 2.75e+03  \\\\\n",
       "\\bottomrule\n",
       "\\end{tabular}\n",
       "%\\caption{OLS Regression Results}\n",
       "\\end{center}\n",
       "\n",
       "Notes: \\newline\n",
       " [1] Standard Errors assume that the covariance matrix of the errors is correctly specified. \\newline\n",
       " [2] The condition number is large, 2.75e+03. This might indicate that there are \\newline\n",
       " strong multicollinearity or other numerical problems."
      ],
      "text/plain": [
       "<class 'statsmodels.iolib.summary.Summary'>\n",
       "\"\"\"\n",
       "                            OLS Regression Results                            \n",
       "==============================================================================\n",
       "Dep. Variable:                  price   R-squared:                       0.745\n",
       "Model:                            OLS   Adj. R-squared:                  0.742\n",
       "Method:                 Least Squares   F-statistic:                     285.9\n",
       "Date:                Wed, 07 Feb 2024   Prob (F-statistic):           8.13e-31\n",
       "Time:                        09:51:06   Log-Likelihood:                -1198.3\n",
       "No. Observations:                 100   AIC:                             2401.\n",
       "Df Residuals:                      98   BIC:                             2406.\n",
       "Df Model:                           1                                         \n",
       "Covariance Type:            nonrobust                                         \n",
       "==============================================================================\n",
       "                 coef    std err          t      P>|t|      [0.025      0.975]\n",
       "------------------------------------------------------------------------------\n",
       "const       1.019e+05   1.19e+04      8.550      0.000    7.83e+04    1.26e+05\n",
       "size         223.1787     13.199     16.909      0.000     196.986     249.371\n",
       "==============================================================================\n",
       "Omnibus:                        6.262   Durbin-Watson:                   2.267\n",
       "Prob(Omnibus):                  0.044   Jarque-Bera (JB):                2.938\n",
       "Skew:                           0.117   Prob(JB):                        0.230\n",
       "Kurtosis:                       2.194   Cond. No.                     2.75e+03\n",
       "==============================================================================\n",
       "\n",
       "Notes:\n",
       "[1] Standard Errors assume that the covariance matrix of the errors is correctly specified.\n",
       "[2] The condition number is large, 2.75e+03. This might indicate that there are\n",
       "strong multicollinearity or other numerical problems.\n",
       "\"\"\""
      ]
     },
     "execution_count": 18,
     "metadata": {},
     "output_type": "execute_result"
    }
   ],
   "source": [
    "# We now fit the model using Ordinary Least Squares (OLS) method with a dependent variable y and independent variable x\n",
    "\n",
    "x = sm.add_constant(x1)\n",
    "results = sm.OLS(y,x).fit()\n",
    "\n",
    "# Printing the summary of the regression\n",
    "results.summary()"
   ]
  },
  {
   "cell_type": "markdown",
   "id": "8ee6b74b",
   "metadata": {
    "papermill": {
     "duration": 0.024245,
     "end_time": "2024-02-07T09:51:06.257501",
     "exception": false,
     "start_time": "2024-02-07T09:51:06.233256",
     "status": "completed"
    },
    "tags": []
   },
   "source": [
    "#### The regression equation we get is:\n",
    "#### $ Price = 101900 + 223.1787 *Size $\n",
    "\n",
    "Other observations:\n",
    "1. The size of the apartment is a significant variable when predicting the price of the apartment for the given city *(p < 0.05)*\n",
    "2. This model having the Size of the apartment explains 74.50% of the variation in the Price of the apartment in the given city ($R^2 = 0.745$)\n",
    "\n",
    "We now proceed to plot the regression line."
   ]
  },
  {
   "cell_type": "code",
   "execution_count": 19,
   "id": "a06ef6fe",
   "metadata": {
    "execution": {
     "iopub.execute_input": "2024-02-07T09:51:06.309671Z",
     "iopub.status.busy": "2024-02-07T09:51:06.309256Z",
     "iopub.status.idle": "2024-02-07T09:51:06.711290Z",
     "shell.execute_reply": "2024-02-07T09:51:06.710146Z"
    },
    "papermill": {
     "duration": 0.431081,
     "end_time": "2024-02-07T09:51:06.714318",
     "exception": false,
     "start_time": "2024-02-07T09:51:06.283237",
     "status": "completed"
    },
    "tags": []
   },
   "outputs": [
    {
     "data": {
      "image/png": "[encoded data removed]",
      "text/plain": [
       "<Figure size 640x480 with 1 Axes>"
      ]
     },
     "metadata": {},
     "output_type": "display_data"
    }
   ],
   "source": [
    "# Plotting the regression line\n",
    "plt.scatter(x1,y, c='blue')\n",
    "yhat = x1*223.1787+101900\n",
    "fig = plt.plot(x1,yhat, lw=2.5, c='brown', label ='Price = $101900 + 223.1787 * Size')\n",
    "fig = plt.legend(loc='upper left', shadow=True, fontsize='small')\n",
    "plt.xlabel('Size', fontsize = 20)\n",
    "plt.ylabel('Price', fontsize = 20)\n",
    "plt.show()"
   ]
  },
  {
   "cell_type": "markdown",
   "id": "9306d4a2",
   "metadata": {
    "papermill": {
     "duration": 0.025478,
     "end_time": "2024-02-07T09:51:06.766336",
     "exception": false,
     "start_time": "2024-02-07T09:51:06.740858",
     "status": "completed"
    },
    "tags": []
   },
   "source": [
    "-------------------------------------------------------------------------------------"
   ]
  },
  {
   "cell_type": "markdown",
   "id": "b0253f7a",
   "metadata": {
    "papermill": {
     "duration": 0.025034,
     "end_time": "2024-02-07T09:51:06.817029",
     "exception": false,
     "start_time": "2024-02-07T09:51:06.791995",
     "status": "completed"
    },
    "tags": []
   },
   "source": [
    "<a id=\"4\"></a>\n",
    "# 2. Multiple Linear Regression"
   ]
  },
  {
   "cell_type": "markdown",
   "id": "a37c38c0",
   "metadata": {
    "papermill": {
     "duration": 0.024977,
     "end_time": "2024-02-07T09:51:06.867844",
     "exception": false,
     "start_time": "2024-02-07T09:51:06.842867",
     "status": "completed"
    },
    "tags": []
   },
   "source": [
    "<a id=\"5\"></a>\n",
    "## 2.1 Multiple Linear Regression Model using GPA, SAT and Random scores"
   ]
  },
  {
   "cell_type": "code",
   "execution_count": 20,
   "id": "6a64f898",
   "metadata": {
    "execution": {
     "iopub.execute_input": "2024-02-07T09:51:06.920900Z",
     "iopub.status.busy": "2024-02-07T09:51:06.920509Z",
     "iopub.status.idle": "2024-02-07T09:51:06.926769Z",
     "shell.execute_reply": "2024-02-07T09:51:06.925719Z"
    },
    "papermill": {
     "duration": 0.035584,
     "end_time": "2024-02-07T09:51:06.929091",
     "exception": false,
     "start_time": "2024-02-07T09:51:06.893507",
     "status": "completed"
    },
    "tags": []
   },
   "outputs": [],
   "source": [
    "# Importing the relevant libraries\n",
    "import numpy as np\n",
    "import pandas as pd\n",
    "import matplotlib.pyplot as plt\n",
    "import statsmodels.api as sm\n",
    "import seaborn as sns\n",
    "# Setting the styles to Seaborn\n",
    "sns.set()"
   ]
  },
  {
   "cell_type": "markdown",
   "id": "bc22c7e7",
   "metadata": {
    "papermill": {
     "duration": 0.024847,
     "end_time": "2024-02-07T09:51:06.979322",
     "exception": false,
     "start_time": "2024-02-07T09:51:06.954475",
     "status": "completed"
    },
    "tags": []
   },
   "source": [
    "#### The given data set is the same as that we used for the Simple Linear Regression (GPA vs SAT).\n",
    "#### One more column 'Rand 1,2,3' containing random numbers from one to three is added for using it to build a multiple linear regression model."
   ]
  },
  {
   "cell_type": "code",
   "execution_count": 21,
   "id": "45dae1c1",
   "metadata": {
    "execution": {
     "iopub.execute_input": "2024-02-07T09:51:07.031727Z",
     "iopub.status.busy": "2024-02-07T09:51:07.031355Z",
     "iopub.status.idle": "2024-02-07T09:51:07.057444Z",
     "shell.execute_reply": "2024-02-07T09:51:07.056607Z"
    },
    "papermill": {
     "duration": 0.054934,
     "end_time": "2024-02-07T09:51:07.059546",
     "exception": false,
     "start_time": "2024-02-07T09:51:07.004612",
     "status": "completed"
    },
    "tags": []
   },
   "outputs": [
    {
     "data": {
      "text/html": [
       "<div>\n",
       "<style scoped>\n",
       "    .dataframe tbody tr th:only-of-type {\n",
       "        vertical-align: middle;\n",
       "    }\n",
       "\n",
       "    .dataframe tbody tr th {\n",
       "        vertical-align: top;\n",
       "    }\n",
       "\n",
       "    .dataframe thead th {\n",
       "        text-align: right;\n",
       "    }\n",
       "</style>\n",
       "<table border=\"1\" class=\"dataframe\">\n",
       "  <thead>\n",
       "    <tr style=\"text-align: right;\">\n",
       "      <th></th>\n",
       "      <th>SAT</th>\n",
       "      <th>Rand 1,2,3</th>\n",
       "      <th>GPA</th>\n",
       "    </tr>\n",
       "  </thead>\n",
       "  <tbody>\n",
       "    <tr>\n",
       "      <th>0</th>\n",
       "      <td>1714</td>\n",
       "      <td>1</td>\n",
       "      <td>2.40</td>\n",
       "    </tr>\n",
       "    <tr>\n",
       "      <th>1</th>\n",
       "      <td>1664</td>\n",
       "      <td>3</td>\n",
       "      <td>2.52</td>\n",
       "    </tr>\n",
       "    <tr>\n",
       "      <th>2</th>\n",
       "      <td>1760</td>\n",
       "      <td>3</td>\n",
       "      <td>2.54</td>\n",
       "    </tr>\n",
       "    <tr>\n",
       "      <th>3</th>\n",
       "      <td>1685</td>\n",
       "      <td>3</td>\n",
       "      <td>2.74</td>\n",
       "    </tr>\n",
       "    <tr>\n",
       "      <th>4</th>\n",
       "      <td>1693</td>\n",
       "      <td>2</td>\n",
       "      <td>2.83</td>\n",
       "    </tr>\n",
       "    <tr>\n",
       "      <th>...</th>\n",
       "      <td>...</td>\n",
       "      <td>...</td>\n",
       "      <td>...</td>\n",
       "    </tr>\n",
       "    <tr>\n",
       "      <th>79</th>\n",
       "      <td>1936</td>\n",
       "      <td>3</td>\n",
       "      <td>3.71</td>\n",
       "    </tr>\n",
       "    <tr>\n",
       "      <th>80</th>\n",
       "      <td>1810</td>\n",
       "      <td>1</td>\n",
       "      <td>3.71</td>\n",
       "    </tr>\n",
       "    <tr>\n",
       "      <th>81</th>\n",
       "      <td>1987</td>\n",
       "      <td>3</td>\n",
       "      <td>3.73</td>\n",
       "    </tr>\n",
       "    <tr>\n",
       "      <th>82</th>\n",
       "      <td>1962</td>\n",
       "      <td>1</td>\n",
       "      <td>3.76</td>\n",
       "    </tr>\n",
       "    <tr>\n",
       "      <th>83</th>\n",
       "      <td>2050</td>\n",
       "      <td>2</td>\n",
       "      <td>3.81</td>\n",
       "    </tr>\n",
       "  </tbody>\n",
       "</table>\n",
       "<p>84 rows × 3 columns</p>\n",
       "</div>"
      ],
      "text/plain": [
       "     SAT  Rand 1,2,3   GPA\n",
       "0   1714           1  2.40\n",
       "1   1664           3  2.52\n",
       "2   1760           3  2.54\n",
       "3   1685           3  2.74\n",
       "4   1693           2  2.83\n",
       "..   ...         ...   ...\n",
       "79  1936           3  3.71\n",
       "80  1810           1  3.71\n",
       "81  1987           3  3.73\n",
       "82  1962           1  3.76\n",
       "83  2050           2  3.81\n",
       "\n",
       "[84 rows x 3 columns]"
      ]
     },
     "execution_count": 21,
     "metadata": {},
     "output_type": "execute_result"
    }
   ],
   "source": [
    "# Loading the data set\n",
    "mult_data = pd.read_csv('/kaggle/input/gpa-sat-random/multiple_linear_regression.csv')\n",
    "#Let us check what is inside the dataframe\n",
    "mult_data"
   ]
  },
  {
   "cell_type": "code",
   "execution_count": 22,
   "id": "37de02e7",
   "metadata": {
    "execution": {
     "iopub.execute_input": "2024-02-07T09:51:07.112727Z",
     "iopub.status.busy": "2024-02-07T09:51:07.112328Z",
     "iopub.status.idle": "2024-02-07T09:51:07.133088Z",
     "shell.execute_reply": "2024-02-07T09:51:07.132014Z"
    },
    "papermill": {
     "duration": 0.050188,
     "end_time": "2024-02-07T09:51:07.135475",
     "exception": false,
     "start_time": "2024-02-07T09:51:07.085287",
     "status": "completed"
    },
    "tags": []
   },
   "outputs": [
    {
     "data": {
      "text/html": [
       "<div>\n",
       "<style scoped>\n",
       "    .dataframe tbody tr th:only-of-type {\n",
       "        vertical-align: middle;\n",
       "    }\n",
       "\n",
       "    .dataframe tbody tr th {\n",
       "        vertical-align: top;\n",
       "    }\n",
       "\n",
       "    .dataframe thead th {\n",
       "        text-align: right;\n",
       "    }\n",
       "</style>\n",
       "<table border=\"1\" class=\"dataframe\">\n",
       "  <thead>\n",
       "    <tr style=\"text-align: right;\">\n",
       "      <th></th>\n",
       "      <th>SAT</th>\n",
       "      <th>Rand 1,2,3</th>\n",
       "      <th>GPA</th>\n",
       "    </tr>\n",
       "  </thead>\n",
       "  <tbody>\n",
       "    <tr>\n",
       "      <th>count</th>\n",
       "      <td>84.000000</td>\n",
       "      <td>84.000000</td>\n",
       "      <td>84.000000</td>\n",
       "    </tr>\n",
       "    <tr>\n",
       "      <th>mean</th>\n",
       "      <td>1845.273810</td>\n",
       "      <td>2.059524</td>\n",
       "      <td>3.330238</td>\n",
       "    </tr>\n",
       "    <tr>\n",
       "      <th>std</th>\n",
       "      <td>104.530661</td>\n",
       "      <td>0.855192</td>\n",
       "      <td>0.271617</td>\n",
       "    </tr>\n",
       "    <tr>\n",
       "      <th>min</th>\n",
       "      <td>1634.000000</td>\n",
       "      <td>1.000000</td>\n",
       "      <td>2.400000</td>\n",
       "    </tr>\n",
       "    <tr>\n",
       "      <th>25%</th>\n",
       "      <td>1772.000000</td>\n",
       "      <td>1.000000</td>\n",
       "      <td>3.190000</td>\n",
       "    </tr>\n",
       "    <tr>\n",
       "      <th>50%</th>\n",
       "      <td>1846.000000</td>\n",
       "      <td>2.000000</td>\n",
       "      <td>3.380000</td>\n",
       "    </tr>\n",
       "    <tr>\n",
       "      <th>75%</th>\n",
       "      <td>1934.000000</td>\n",
       "      <td>3.000000</td>\n",
       "      <td>3.502500</td>\n",
       "    </tr>\n",
       "    <tr>\n",
       "      <th>max</th>\n",
       "      <td>2050.000000</td>\n",
       "      <td>3.000000</td>\n",
       "      <td>3.810000</td>\n",
       "    </tr>\n",
       "  </tbody>\n",
       "</table>\n",
       "</div>"
      ],
      "text/plain": [
       "               SAT  Rand 1,2,3        GPA\n",
       "count    84.000000   84.000000  84.000000\n",
       "mean   1845.273810    2.059524   3.330238\n",
       "std     104.530661    0.855192   0.271617\n",
       "min    1634.000000    1.000000   2.400000\n",
       "25%    1772.000000    1.000000   3.190000\n",
       "50%    1846.000000    2.000000   3.380000\n",
       "75%    1934.000000    3.000000   3.502500\n",
       "max    2050.000000    3.000000   3.810000"
      ]
     },
     "execution_count": 22,
     "metadata": {},
     "output_type": "execute_result"
    }
   ],
   "source": [
    "# Descriptive statistics of the data\n",
    "mult_data.describe()"
   ]
  },
  {
   "cell_type": "code",
   "execution_count": 23,
   "id": "19db2504",
   "metadata": {
    "execution": {
     "iopub.execute_input": "2024-02-07T09:51:07.189767Z",
     "iopub.status.busy": "2024-02-07T09:51:07.189346Z",
     "iopub.status.idle": "2024-02-07T09:51:07.201491Z",
     "shell.execute_reply": "2024-02-07T09:51:07.200578Z"
    },
    "papermill": {
     "duration": 0.041999,
     "end_time": "2024-02-07T09:51:07.203682",
     "exception": false,
     "start_time": "2024-02-07T09:51:07.161683",
     "status": "completed"
    },
    "tags": []
   },
   "outputs": [],
   "source": [
    "# For the mutiple regression equation our dependent variable (y) is the GPA\n",
    "y = mult_data[[\"GPA\"]]\n",
    "\n",
    "# While SAT Score & Random Scores are the independent variables (x) for our multiple linear regression\n",
    "x1 = mult_data[[\"SAT\", \"Rand 1,2,3\"]]"
   ]
  },
  {
   "cell_type": "code",
   "execution_count": 24,
   "id": "0bc4f009",
   "metadata": {
    "execution": {
     "iopub.execute_input": "2024-02-07T09:51:07.257716Z",
     "iopub.status.busy": "2024-02-07T09:51:07.257311Z",
     "iopub.status.idle": "2024-02-07T09:51:07.266304Z",
     "shell.execute_reply": "2024-02-07T09:51:07.265211Z"
    },
    "papermill": {
     "duration": 0.038821,
     "end_time": "2024-02-07T09:51:07.268881",
     "exception": false,
     "start_time": "2024-02-07T09:51:07.230060",
     "status": "completed"
    },
    "tags": []
   },
   "outputs": [],
   "source": [
    "# Add a constant. Esentially, we are adding a new column (equal in lenght to x), which consists only of 1s\n",
    "x = sm.add_constant(x1)\n",
    "# Fit the model, according to the OLS (ordinary least squares) method with a dependent variable y and an idependent x\n",
    "results = sm.OLS(y,x).fit()"
   ]
  },
  {
   "cell_type": "code",
   "execution_count": 25,
   "id": "e08a2f05",
   "metadata": {
    "execution": {
     "iopub.execute_input": "2024-02-07T09:51:07.323614Z",
     "iopub.status.busy": "2024-02-07T09:51:07.323226Z",
     "iopub.status.idle": "2024-02-07T09:51:07.359236Z",
     "shell.execute_reply": "2024-02-07T09:51:07.358076Z"
    },
    "papermill": {
     "duration": 0.065645,
     "end_time": "2024-02-07T09:51:07.361508",
     "exception": false,
     "start_time": "2024-02-07T09:51:07.295863",
     "status": "completed"
    },
    "tags": []
   },
   "outputs": [
    {
     "data": {
      "text/html": [
       "<table class=\"simpletable\">\n",
       "<caption>OLS Regression Results</caption>\n",
       "<tr>\n",
       "  <th>Dep. Variable:</th>           <td>GPA</td>       <th>  R-squared:         </th> <td>   0.407</td>\n",
       "</tr>\n",
       "<tr>\n",
       "  <th>Model:</th>                   <td>OLS</td>       <th>  Adj. R-squared:    </th> <td>   0.392</td>\n",
       "</tr>\n",
       "<tr>\n",
       "  <th>Method:</th>             <td>Least Squares</td>  <th>  F-statistic:       </th> <td>   27.76</td>\n",
       "</tr>\n",
       "<tr>\n",
       "  <th>Date:</th>             <td>Wed, 07 Feb 2024</td> <th>  Prob (F-statistic):</th> <td>6.58e-10</td>\n",
       "</tr>\n",
       "<tr>\n",
       "  <th>Time:</th>                 <td>09:51:07</td>     <th>  Log-Likelihood:    </th> <td>  12.720</td>\n",
       "</tr>\n",
       "<tr>\n",
       "  <th>No. Observations:</th>      <td>    84</td>      <th>  AIC:               </th> <td>  -19.44</td>\n",
       "</tr>\n",
       "<tr>\n",
       "  <th>Df Residuals:</th>          <td>    81</td>      <th>  BIC:               </th> <td>  -12.15</td>\n",
       "</tr>\n",
       "<tr>\n",
       "  <th>Df Model:</th>              <td>     2</td>      <th>                     </th>     <td> </td>   \n",
       "</tr>\n",
       "<tr>\n",
       "  <th>Covariance Type:</th>      <td>nonrobust</td>    <th>                     </th>     <td> </td>   \n",
       "</tr>\n",
       "</table>\n",
       "<table class=\"simpletable\">\n",
       "<tr>\n",
       "       <td></td>         <th>coef</th>     <th>std err</th>      <th>t</th>      <th>P>|t|</th>  <th>[0.025</th>    <th>0.975]</th>  \n",
       "</tr>\n",
       "<tr>\n",
       "  <th>const</th>      <td>    0.2960</td> <td>    0.417</td> <td>    0.710</td> <td> 0.480</td> <td>   -0.533</td> <td>    1.125</td>\n",
       "</tr>\n",
       "<tr>\n",
       "  <th>SAT</th>        <td>    0.0017</td> <td>    0.000</td> <td>    7.432</td> <td> 0.000</td> <td>    0.001</td> <td>    0.002</td>\n",
       "</tr>\n",
       "<tr>\n",
       "  <th>Rand 1,2,3</th> <td>   -0.0083</td> <td>    0.027</td> <td>   -0.304</td> <td> 0.762</td> <td>   -0.062</td> <td>    0.046</td>\n",
       "</tr>\n",
       "</table>\n",
       "<table class=\"simpletable\">\n",
       "<tr>\n",
       "  <th>Omnibus:</th>       <td>12.992</td> <th>  Durbin-Watson:     </th> <td>   0.948</td>\n",
       "</tr>\n",
       "<tr>\n",
       "  <th>Prob(Omnibus):</th> <td> 0.002</td> <th>  Jarque-Bera (JB):  </th> <td>  16.364</td>\n",
       "</tr>\n",
       "<tr>\n",
       "  <th>Skew:</th>          <td>-0.731</td> <th>  Prob(JB):          </th> <td>0.000280</td>\n",
       "</tr>\n",
       "<tr>\n",
       "  <th>Kurtosis:</th>      <td> 4.594</td> <th>  Cond. No.          </th> <td>3.33e+04</td>\n",
       "</tr>\n",
       "</table><br/><br/>Notes:<br/>[1] Standard Errors assume that the covariance matrix of the errors is correctly specified.<br/>[2] The condition number is large, 3.33e+04. This might indicate that there are<br/>strong multicollinearity or other numerical problems."
      ],
      "text/latex": [
       "\\begin{center}\n",
       "\\begin{tabular}{lclc}\n",
       "\\toprule\n",
       "\\textbf{Dep. Variable:}    &       GPA        & \\textbf{  R-squared:         } &     0.407   \\\\\n",
       "\\textbf{Model:}            &       OLS        & \\textbf{  Adj. R-squared:    } &     0.392   \\\\\n",
       "\\textbf{Method:}           &  Least Squares   & \\textbf{  F-statistic:       } &     27.76   \\\\\n",
       "\\textbf{Date:}             & Wed, 07 Feb 2024 & \\textbf{  Prob (F-statistic):} &  6.58e-10   \\\\\n",
       "\\textbf{Time:}             &     09:51:07     & \\textbf{  Log-Likelihood:    } &    12.720   \\\\\n",
       "\\textbf{No. Observations:} &          84      & \\textbf{  AIC:               } &    -19.44   \\\\\n",
       "\\textbf{Df Residuals:}     &          81      & \\textbf{  BIC:               } &    -12.15   \\\\\n",
       "\\textbf{Df Model:}         &           2      & \\textbf{                     } &             \\\\\n",
       "\\textbf{Covariance Type:}  &    nonrobust     & \\textbf{                     } &             \\\\\n",
       "\\bottomrule\n",
       "\\end{tabular}\n",
       "\\begin{tabular}{lcccccc}\n",
       "                    & \\textbf{coef} & \\textbf{std err} & \\textbf{t} & \\textbf{P$> |$t$|$} & \\textbf{[0.025} & \\textbf{0.975]}  \\\\\n",
       "\\midrule\n",
       "\\textbf{const}      &       0.2960  &        0.417     &     0.710  &         0.480        &       -0.533    &        1.125     \\\\\n",
       "\\textbf{SAT}        &       0.0017  &        0.000     &     7.432  &         0.000        &        0.001    &        0.002     \\\\\n",
       "\\textbf{Rand 1,2,3} &      -0.0083  &        0.027     &    -0.304  &         0.762        &       -0.062    &        0.046     \\\\\n",
       "\\bottomrule\n",
       "\\end{tabular}\n",
       "\\begin{tabular}{lclc}\n",
       "\\textbf{Omnibus:}       & 12.992 & \\textbf{  Durbin-Watson:     } &    0.948  \\\\\n",
       "\\textbf{Prob(Omnibus):} &  0.002 & \\textbf{  Jarque-Bera (JB):  } &   16.364  \\\\\n",
       "\\textbf{Skew:}          & -0.731 & \\textbf{  Prob(JB):          } & 0.000280  \\\\\n",
       "\\textbf{Kurtosis:}      &  4.594 & \\textbf{  Cond. No.          } & 3.33e+04  \\\\\n",
       "\\bottomrule\n",
       "\\end{tabular}\n",
       "%\\caption{OLS Regression Results}\n",
       "\\end{center}\n",
       "\n",
       "Notes: \\newline\n",
       " [1] Standard Errors assume that the covariance matrix of the errors is correctly specified. \\newline\n",
       " [2] The condition number is large, 3.33e+04. This might indicate that there are \\newline\n",
       " strong multicollinearity or other numerical problems."
      ],
      "text/plain": [
       "<class 'statsmodels.iolib.summary.Summary'>\n",
       "\"\"\"\n",
       "                            OLS Regression Results                            \n",
       "==============================================================================\n",
       "Dep. Variable:                    GPA   R-squared:                       0.407\n",
       "Model:                            OLS   Adj. R-squared:                  0.392\n",
       "Method:                 Least Squares   F-statistic:                     27.76\n",
       "Date:                Wed, 07 Feb 2024   Prob (F-statistic):           6.58e-10\n",
       "Time:                        09:51:07   Log-Likelihood:                 12.720\n",
       "No. Observations:                  84   AIC:                            -19.44\n",
       "Df Residuals:                      81   BIC:                            -12.15\n",
       "Df Model:                           2                                         \n",
       "Covariance Type:            nonrobust                                         \n",
       "==============================================================================\n",
       "                 coef    std err          t      P>|t|      [0.025      0.975]\n",
       "------------------------------------------------------------------------------\n",
       "const          0.2960      0.417      0.710      0.480      -0.533       1.125\n",
       "SAT            0.0017      0.000      7.432      0.000       0.001       0.002\n",
       "Rand 1,2,3    -0.0083      0.027     -0.304      0.762      -0.062       0.046\n",
       "==============================================================================\n",
       "Omnibus:                       12.992   Durbin-Watson:                   0.948\n",
       "Prob(Omnibus):                  0.002   Jarque-Bera (JB):               16.364\n",
       "Skew:                          -0.731   Prob(JB):                     0.000280\n",
       "Kurtosis:                       4.594   Cond. No.                     3.33e+04\n",
       "==============================================================================\n",
       "\n",
       "Notes:\n",
       "[1] Standard Errors assume that the covariance matrix of the errors is correctly specified.\n",
       "[2] The condition number is large, 3.33e+04. This might indicate that there are\n",
       "strong multicollinearity or other numerical problems.\n",
       "\"\"\""
      ]
     },
     "execution_count": 25,
     "metadata": {},
     "output_type": "execute_result"
    }
   ],
   "source": [
    "# The summary of multiple linear regression\n",
    "results.summary()"
   ]
  },
  {
   "cell_type": "markdown",
   "id": "750f6bc6",
   "metadata": {
    "papermill": {
     "duration": 0.025931,
     "end_time": "2024-02-07T09:51:07.413996",
     "exception": false,
     "start_time": "2024-02-07T09:51:07.388065",
     "status": "completed"
    },
    "tags": []
   },
   "source": [
    "#### The regression equation we get is:\n",
    "#### $ GPA = 0.2960 + (0.0017 * SAT) - (0.0083 * Rand 1,2,3)  $\n",
    "\n",
    "Other observations:\n",
    "1. SAT score continues to remain a significant predictor to predict the GPA of the student *(p < 0.05)*.\n",
    "2. The newly introduced predictor Rand 1,2,3 is not a significant variable to predict the GPA of the student in the program and can be eliminated.\n",
    "3. This model having the SAT score of the student and a Random number between one and three explains 40.70% of the variation in the GPA of the student ($R^2 = 0.407$)"
   ]
  },
  {
   "cell_type": "markdown",
   "id": "38a1f91f",
   "metadata": {
    "papermill": {
     "duration": 0.025995,
     "end_time": "2024-02-07T09:51:07.466392",
     "exception": false,
     "start_time": "2024-02-07T09:51:07.440397",
     "status": "completed"
    },
    "tags": []
   },
   "source": [
    "----------------------------------------------------------------------------------"
   ]
  },
  {
   "cell_type": "markdown",
   "id": "2429f98d",
   "metadata": {
    "papermill": {
     "duration": 0.025866,
     "end_time": "2024-02-07T09:51:07.518676",
     "exception": false,
     "start_time": "2024-02-07T09:51:07.492810",
     "status": "completed"
    },
    "tags": []
   },
   "source": [
    "<a id=\"6\"></a>\n",
    "## 2.2 Multiple Linear Regression Model using Real Estate Data (Price, Size & Year)"
   ]
  },
  {
   "cell_type": "code",
   "execution_count": 26,
   "id": "68e94e24",
   "metadata": {
    "execution": {
     "iopub.execute_input": "2024-02-07T09:51:07.573345Z",
     "iopub.status.busy": "2024-02-07T09:51:07.572903Z",
     "iopub.status.idle": "2024-02-07T09:51:07.578658Z",
     "shell.execute_reply": "2024-02-07T09:51:07.577824Z"
    },
    "papermill": {
     "duration": 0.03581,
     "end_time": "2024-02-07T09:51:07.580799",
     "exception": false,
     "start_time": "2024-02-07T09:51:07.544989",
     "status": "completed"
    },
    "tags": []
   },
   "outputs": [],
   "source": [
    "# Importing the relevant libraries\n",
    "import numpy as np\n",
    "import pandas as pd\n",
    "import matplotlib.pyplot as plt\n",
    "import statsmodels.api as sm\n",
    "import seaborn as sns\n",
    "# Setting the styles to Seaborn\n",
    "sns.set()"
   ]
  },
  {
   "cell_type": "code",
   "execution_count": 27,
   "id": "a1654514",
   "metadata": {
    "execution": {
     "iopub.execute_input": "2024-02-07T09:51:07.636311Z",
     "iopub.status.busy": "2024-02-07T09:51:07.635873Z",
     "iopub.status.idle": "2024-02-07T09:51:07.656239Z",
     "shell.execute_reply": "2024-02-07T09:51:07.655176Z"
    },
    "papermill": {
     "duration": 0.051195,
     "end_time": "2024-02-07T09:51:07.658568",
     "exception": false,
     "start_time": "2024-02-07T09:51:07.607373",
     "status": "completed"
    },
    "tags": []
   },
   "outputs": [
    {
     "data": {
      "text/html": [
       "<div>\n",
       "<style scoped>\n",
       "    .dataframe tbody tr th:only-of-type {\n",
       "        vertical-align: middle;\n",
       "    }\n",
       "\n",
       "    .dataframe tbody tr th {\n",
       "        vertical-align: top;\n",
       "    }\n",
       "\n",
       "    .dataframe thead th {\n",
       "        text-align: right;\n",
       "    }\n",
       "</style>\n",
       "<table border=\"1\" class=\"dataframe\">\n",
       "  <thead>\n",
       "    <tr style=\"text-align: right;\">\n",
       "      <th></th>\n",
       "      <th>price</th>\n",
       "      <th>size</th>\n",
       "      <th>year</th>\n",
       "    </tr>\n",
       "  </thead>\n",
       "  <tbody>\n",
       "    <tr>\n",
       "      <th>0</th>\n",
       "      <td>234314.144</td>\n",
       "      <td>643.09</td>\n",
       "      <td>2015</td>\n",
       "    </tr>\n",
       "    <tr>\n",
       "      <th>1</th>\n",
       "      <td>228581.528</td>\n",
       "      <td>656.22</td>\n",
       "      <td>2009</td>\n",
       "    </tr>\n",
       "    <tr>\n",
       "      <th>2</th>\n",
       "      <td>281626.336</td>\n",
       "      <td>487.29</td>\n",
       "      <td>2018</td>\n",
       "    </tr>\n",
       "    <tr>\n",
       "      <th>3</th>\n",
       "      <td>401255.608</td>\n",
       "      <td>1504.75</td>\n",
       "      <td>2015</td>\n",
       "    </tr>\n",
       "    <tr>\n",
       "      <th>4</th>\n",
       "      <td>458674.256</td>\n",
       "      <td>1275.46</td>\n",
       "      <td>2009</td>\n",
       "    </tr>\n",
       "    <tr>\n",
       "      <th>...</th>\n",
       "      <td>...</td>\n",
       "      <td>...</td>\n",
       "      <td>...</td>\n",
       "    </tr>\n",
       "    <tr>\n",
       "      <th>95</th>\n",
       "      <td>252460.400</td>\n",
       "      <td>549.80</td>\n",
       "      <td>2009</td>\n",
       "    </tr>\n",
       "    <tr>\n",
       "      <th>96</th>\n",
       "      <td>310522.592</td>\n",
       "      <td>1037.44</td>\n",
       "      <td>2009</td>\n",
       "    </tr>\n",
       "    <tr>\n",
       "      <th>97</th>\n",
       "      <td>383635.568</td>\n",
       "      <td>1504.75</td>\n",
       "      <td>2006</td>\n",
       "    </tr>\n",
       "    <tr>\n",
       "      <th>98</th>\n",
       "      <td>225145.248</td>\n",
       "      <td>648.29</td>\n",
       "      <td>2015</td>\n",
       "    </tr>\n",
       "    <tr>\n",
       "      <th>99</th>\n",
       "      <td>274922.856</td>\n",
       "      <td>705.29</td>\n",
       "      <td>2006</td>\n",
       "    </tr>\n",
       "  </tbody>\n",
       "</table>\n",
       "<p>100 rows × 3 columns</p>\n",
       "</div>"
      ],
      "text/plain": [
       "         price     size  year\n",
       "0   234314.144   643.09  2015\n",
       "1   228581.528   656.22  2009\n",
       "2   281626.336   487.29  2018\n",
       "3   401255.608  1504.75  2015\n",
       "4   458674.256  1275.46  2009\n",
       "..         ...      ...   ...\n",
       "95  252460.400   549.80  2009\n",
       "96  310522.592  1037.44  2009\n",
       "97  383635.568  1504.75  2006\n",
       "98  225145.248   648.29  2015\n",
       "99  274922.856   705.29  2006\n",
       "\n",
       "[100 rows x 3 columns]"
      ]
     },
     "execution_count": 27,
     "metadata": {},
     "output_type": "execute_result"
    }
   ],
   "source": [
    "# Loading the data set\n",
    "real_estate_data = pd.read_csv('/kaggle/input/real-estate-price-size-year/real_estate_price_size_year.csv')\n",
    "# Having a glance at the dataset\n",
    "real_estate_data"
   ]
  },
  {
   "cell_type": "code",
   "execution_count": 28,
   "id": "55f6c2db",
   "metadata": {
    "execution": {
     "iopub.execute_input": "2024-02-07T09:51:07.716272Z",
     "iopub.status.busy": "2024-02-07T09:51:07.715835Z",
     "iopub.status.idle": "2024-02-07T09:51:07.736562Z",
     "shell.execute_reply": "2024-02-07T09:51:07.735382Z"
    },
    "papermill": {
     "duration": 0.05208,
     "end_time": "2024-02-07T09:51:07.739091",
     "exception": false,
     "start_time": "2024-02-07T09:51:07.687011",
     "status": "completed"
    },
    "tags": []
   },
   "outputs": [
    {
     "data": {
      "text/html": [
       "<div>\n",
       "<style scoped>\n",
       "    .dataframe tbody tr th:only-of-type {\n",
       "        vertical-align: middle;\n",
       "    }\n",
       "\n",
       "    .dataframe tbody tr th {\n",
       "        vertical-align: top;\n",
       "    }\n",
       "\n",
       "    .dataframe thead th {\n",
       "        text-align: right;\n",
       "    }\n",
       "</style>\n",
       "<table border=\"1\" class=\"dataframe\">\n",
       "  <thead>\n",
       "    <tr style=\"text-align: right;\">\n",
       "      <th></th>\n",
       "      <th>price</th>\n",
       "      <th>size</th>\n",
       "      <th>year</th>\n",
       "    </tr>\n",
       "  </thead>\n",
       "  <tbody>\n",
       "    <tr>\n",
       "      <th>count</th>\n",
       "      <td>100.000000</td>\n",
       "      <td>100.000000</td>\n",
       "      <td>100.000000</td>\n",
       "    </tr>\n",
       "    <tr>\n",
       "      <th>mean</th>\n",
       "      <td>292289.470160</td>\n",
       "      <td>853.024200</td>\n",
       "      <td>2012.600000</td>\n",
       "    </tr>\n",
       "    <tr>\n",
       "      <th>std</th>\n",
       "      <td>77051.727525</td>\n",
       "      <td>297.941951</td>\n",
       "      <td>4.729021</td>\n",
       "    </tr>\n",
       "    <tr>\n",
       "      <th>min</th>\n",
       "      <td>154282.128000</td>\n",
       "      <td>479.750000</td>\n",
       "      <td>2006.000000</td>\n",
       "    </tr>\n",
       "    <tr>\n",
       "      <th>25%</th>\n",
       "      <td>234280.148000</td>\n",
       "      <td>643.330000</td>\n",
       "      <td>2009.000000</td>\n",
       "    </tr>\n",
       "    <tr>\n",
       "      <th>50%</th>\n",
       "      <td>280590.716000</td>\n",
       "      <td>696.405000</td>\n",
       "      <td>2015.000000</td>\n",
       "    </tr>\n",
       "    <tr>\n",
       "      <th>75%</th>\n",
       "      <td>335723.696000</td>\n",
       "      <td>1029.322500</td>\n",
       "      <td>2018.000000</td>\n",
       "    </tr>\n",
       "    <tr>\n",
       "      <th>max</th>\n",
       "      <td>500681.128000</td>\n",
       "      <td>1842.510000</td>\n",
       "      <td>2018.000000</td>\n",
       "    </tr>\n",
       "  </tbody>\n",
       "</table>\n",
       "</div>"
      ],
      "text/plain": [
       "               price         size         year\n",
       "count     100.000000   100.000000   100.000000\n",
       "mean   292289.470160   853.024200  2012.600000\n",
       "std     77051.727525   297.941951     4.729021\n",
       "min    154282.128000   479.750000  2006.000000\n",
       "25%    234280.148000   643.330000  2009.000000\n",
       "50%    280590.716000   696.405000  2015.000000\n",
       "75%    335723.696000  1029.322500  2018.000000\n",
       "max    500681.128000  1842.510000  2018.000000"
      ]
     },
     "execution_count": 28,
     "metadata": {},
     "output_type": "execute_result"
    }
   ],
   "source": [
    "# Descriptive statistics of the given data set\n",
    "\n",
    "real_estate_data.describe()"
   ]
  },
  {
   "cell_type": "code",
   "execution_count": 29,
   "id": "2b567f43",
   "metadata": {
    "execution": {
     "iopub.execute_input": "2024-02-07T09:51:07.796369Z",
     "iopub.status.busy": "2024-02-07T09:51:07.795977Z",
     "iopub.status.idle": "2024-02-07T09:51:07.803003Z",
     "shell.execute_reply": "2024-02-07T09:51:07.801821Z"
    },
    "papermill": {
     "duration": 0.03847,
     "end_time": "2024-02-07T09:51:07.805356",
     "exception": false,
     "start_time": "2024-02-07T09:51:07.766886",
     "status": "completed"
    },
    "tags": []
   },
   "outputs": [],
   "source": [
    "# Defining the dependent (predicted) and independent (predictor) variables\n",
    "\n",
    "y = real_estate_data[['price']]\n",
    "x1 = real_estate_data[['size','year']]"
   ]
  },
  {
   "cell_type": "code",
   "execution_count": 30,
   "id": "c8f0e7d9",
   "metadata": {
    "execution": {
     "iopub.execute_input": "2024-02-07T09:51:07.861672Z",
     "iopub.status.busy": "2024-02-07T09:51:07.860911Z",
     "iopub.status.idle": "2024-02-07T09:51:07.900960Z",
     "shell.execute_reply": "2024-02-07T09:51:07.899885Z"
    },
    "papermill": {
     "duration": 0.070911,
     "end_time": "2024-02-07T09:51:07.903375",
     "exception": false,
     "start_time": "2024-02-07T09:51:07.832464",
     "status": "completed"
    },
    "tags": []
   },
   "outputs": [
    {
     "data": {
      "text/html": [
       "<table class=\"simpletable\">\n",
       "<caption>OLS Regression Results</caption>\n",
       "<tr>\n",
       "  <th>Dep. Variable:</th>          <td>price</td>      <th>  R-squared:         </th> <td>   0.776</td>\n",
       "</tr>\n",
       "<tr>\n",
       "  <th>Model:</th>                   <td>OLS</td>       <th>  Adj. R-squared:    </th> <td>   0.772</td>\n",
       "</tr>\n",
       "<tr>\n",
       "  <th>Method:</th>             <td>Least Squares</td>  <th>  F-statistic:       </th> <td>   168.5</td>\n",
       "</tr>\n",
       "<tr>\n",
       "  <th>Date:</th>             <td>Wed, 07 Feb 2024</td> <th>  Prob (F-statistic):</th> <td>2.77e-32</td>\n",
       "</tr>\n",
       "<tr>\n",
       "  <th>Time:</th>                 <td>09:51:07</td>     <th>  Log-Likelihood:    </th> <td> -1191.7</td>\n",
       "</tr>\n",
       "<tr>\n",
       "  <th>No. Observations:</th>      <td>   100</td>      <th>  AIC:               </th> <td>   2389.</td>\n",
       "</tr>\n",
       "<tr>\n",
       "  <th>Df Residuals:</th>          <td>    97</td>      <th>  BIC:               </th> <td>   2397.</td>\n",
       "</tr>\n",
       "<tr>\n",
       "  <th>Df Model:</th>              <td>     2</td>      <th>                     </th>     <td> </td>   \n",
       "</tr>\n",
       "<tr>\n",
       "  <th>Covariance Type:</th>      <td>nonrobust</td>    <th>                     </th>     <td> </td>   \n",
       "</tr>\n",
       "</table>\n",
       "<table class=\"simpletable\">\n",
       "<tr>\n",
       "    <td></td>       <th>coef</th>     <th>std err</th>      <th>t</th>      <th>P>|t|</th>  <th>[0.025</th>    <th>0.975]</th>  \n",
       "</tr>\n",
       "<tr>\n",
       "  <th>const</th> <td>-5.772e+06</td> <td> 1.58e+06</td> <td>   -3.647</td> <td> 0.000</td> <td>-8.91e+06</td> <td>-2.63e+06</td>\n",
       "</tr>\n",
       "<tr>\n",
       "  <th>size</th>  <td>  227.7009</td> <td>   12.474</td> <td>   18.254</td> <td> 0.000</td> <td>  202.943</td> <td>  252.458</td>\n",
       "</tr>\n",
       "<tr>\n",
       "  <th>year</th>  <td> 2916.7853</td> <td>  785.896</td> <td>    3.711</td> <td> 0.000</td> <td> 1357.000</td> <td> 4476.571</td>\n",
       "</tr>\n",
       "</table>\n",
       "<table class=\"simpletable\">\n",
       "<tr>\n",
       "  <th>Omnibus:</th>       <td>10.083</td> <th>  Durbin-Watson:     </th> <td>   2.250</td>\n",
       "</tr>\n",
       "<tr>\n",
       "  <th>Prob(Omnibus):</th> <td> 0.006</td> <th>  Jarque-Bera (JB):  </th> <td>   3.678</td>\n",
       "</tr>\n",
       "<tr>\n",
       "  <th>Skew:</th>          <td> 0.095</td> <th>  Prob(JB):          </th> <td>   0.159</td>\n",
       "</tr>\n",
       "<tr>\n",
       "  <th>Kurtosis:</th>      <td> 2.080</td> <th>  Cond. No.          </th> <td>9.41e+05</td>\n",
       "</tr>\n",
       "</table><br/><br/>Notes:<br/>[1] Standard Errors assume that the covariance matrix of the errors is correctly specified.<br/>[2] The condition number is large, 9.41e+05. This might indicate that there are<br/>strong multicollinearity or other numerical problems."
      ],
      "text/latex": [
       "\\begin{center}\n",
       "\\begin{tabular}{lclc}\n",
       "\\toprule\n",
       "\\textbf{Dep. Variable:}    &      price       & \\textbf{  R-squared:         } &     0.776   \\\\\n",
       "\\textbf{Model:}            &       OLS        & \\textbf{  Adj. R-squared:    } &     0.772   \\\\\n",
       "\\textbf{Method:}           &  Least Squares   & \\textbf{  F-statistic:       } &     168.5   \\\\\n",
       "\\textbf{Date:}             & Wed, 07 Feb 2024 & \\textbf{  Prob (F-statistic):} &  2.77e-32   \\\\\n",
       "\\textbf{Time:}             &     09:51:07     & \\textbf{  Log-Likelihood:    } &   -1191.7   \\\\\n",
       "\\textbf{No. Observations:} &         100      & \\textbf{  AIC:               } &     2389.   \\\\\n",
       "\\textbf{Df Residuals:}     &          97      & \\textbf{  BIC:               } &     2397.   \\\\\n",
       "\\textbf{Df Model:}         &           2      & \\textbf{                     } &             \\\\\n",
       "\\textbf{Covariance Type:}  &    nonrobust     & \\textbf{                     } &             \\\\\n",
       "\\bottomrule\n",
       "\\end{tabular}\n",
       "\\begin{tabular}{lcccccc}\n",
       "               & \\textbf{coef} & \\textbf{std err} & \\textbf{t} & \\textbf{P$> |$t$|$} & \\textbf{[0.025} & \\textbf{0.975]}  \\\\\n",
       "\\midrule\n",
       "\\textbf{const} &   -5.772e+06  &     1.58e+06     &    -3.647  &         0.000        &    -8.91e+06    &    -2.63e+06     \\\\\n",
       "\\textbf{size}  &     227.7009  &       12.474     &    18.254  &         0.000        &      202.943    &      252.458     \\\\\n",
       "\\textbf{year}  &    2916.7853  &      785.896     &     3.711  &         0.000        &     1357.000    &     4476.571     \\\\\n",
       "\\bottomrule\n",
       "\\end{tabular}\n",
       "\\begin{tabular}{lclc}\n",
       "\\textbf{Omnibus:}       & 10.083 & \\textbf{  Durbin-Watson:     } &    2.250  \\\\\n",
       "\\textbf{Prob(Omnibus):} &  0.006 & \\textbf{  Jarque-Bera (JB):  } &    3.678  \\\\\n",
       "\\textbf{Skew:}          &  0.095 & \\textbf{  Prob(JB):          } &    0.159  \\\\\n",
       "\\textbf{Kurtosis:}      &  2.080 & \\textbf{  Cond. No.          } & 9.41e+05  \\\\\n",
       "\\bottomrule\n",
       "\\end{tabular}\n",
       "%\\caption{OLS Regression Results}\n",
       "\\end{center}\n",
       "\n",
       "Notes: \\newline\n",
       " [1] Standard Errors assume that the covariance matrix of the errors is correctly specified. \\newline\n",
       " [2] The condition number is large, 9.41e+05. This might indicate that there are \\newline\n",
       " strong multicollinearity or other numerical problems."
      ],
      "text/plain": [
       "<class 'statsmodels.iolib.summary.Summary'>\n",
       "\"\"\"\n",
       "                            OLS Regression Results                            \n",
       "==============================================================================\n",
       "Dep. Variable:                  price   R-squared:                       0.776\n",
       "Model:                            OLS   Adj. R-squared:                  0.772\n",
       "Method:                 Least Squares   F-statistic:                     168.5\n",
       "Date:                Wed, 07 Feb 2024   Prob (F-statistic):           2.77e-32\n",
       "Time:                        09:51:07   Log-Likelihood:                -1191.7\n",
       "No. Observations:                 100   AIC:                             2389.\n",
       "Df Residuals:                      97   BIC:                             2397.\n",
       "Df Model:                           2                                         \n",
       "Covariance Type:            nonrobust                                         \n",
       "==============================================================================\n",
       "                 coef    std err          t      P>|t|      [0.025      0.975]\n",
       "------------------------------------------------------------------------------\n",
       "const      -5.772e+06   1.58e+06     -3.647      0.000   -8.91e+06   -2.63e+06\n",
       "size         227.7009     12.474     18.254      0.000     202.943     252.458\n",
       "year        2916.7853    785.896      3.711      0.000    1357.000    4476.571\n",
       "==============================================================================\n",
       "Omnibus:                       10.083   Durbin-Watson:                   2.250\n",
       "Prob(Omnibus):                  0.006   Jarque-Bera (JB):                3.678\n",
       "Skew:                           0.095   Prob(JB):                        0.159\n",
       "Kurtosis:                       2.080   Cond. No.                     9.41e+05\n",
       "==============================================================================\n",
       "\n",
       "Notes:\n",
       "[1] Standard Errors assume that the covariance matrix of the errors is correctly specified.\n",
       "[2] The condition number is large, 9.41e+05. This might indicate that there are\n",
       "strong multicollinearity or other numerical problems.\n",
       "\"\"\""
      ]
     },
     "execution_count": 30,
     "metadata": {},
     "output_type": "execute_result"
    }
   ],
   "source": [
    "# We now fit the model using Ordinary Least Squares (OLS) method with a dependent variable y (price) and independent variable x (size & year)\n",
    "x = sm.add_constant(x1)\n",
    "results = sm.OLS(y,x).fit()\n",
    "results.summary()"
   ]
  },
  {
   "cell_type": "markdown",
   "id": "206ea00c",
   "metadata": {
    "papermill": {
     "duration": 0.027579,
     "end_time": "2024-02-07T09:51:07.958811",
     "exception": false,
     "start_time": "2024-02-07T09:51:07.931232",
     "status": "completed"
    },
    "tags": []
   },
   "source": [
    "#### The regression equation we get is:\n",
    "#### $ Price = -5772000 + (227.7009 * Size) + (2916.7853 * Year)  $\n",
    "\n",
    "Other observations:\n",
    "1. The size of the apartment and the year in which the property was built, both  *(p < 0.05)*.\n",
    "2. The newly introduced predictor 'year' is also a significant variable to predict the price of the apartment.\n",
    "3. This model having the size of the apartment and the year in which it was built explains 77.60% of the variation in the price of the apartment ($R^2 = 0.776$)\n",
    "\n",
    "Issue:\n",
    "The major fallacy of this model is that it assumes 'Year' as a numerical variable. Hence, it is not suggested to use this model for analysis unless year is converted into categorical variable.\n",
    "______________________________________"
   ]
  },
  {
   "cell_type": "markdown",
   "id": "e20f6b1c",
   "metadata": {
    "papermill": {
     "duration": 0.028036,
     "end_time": "2024-02-07T09:51:08.014457",
     "exception": false,
     "start_time": "2024-02-07T09:51:07.986421",
     "status": "completed"
    },
    "tags": []
   },
   "source": [
    "<a id=\"7\"></a>\n",
    "# 3. Multiple Linear Regression Model involving categorical data"
   ]
  },
  {
   "cell_type": "markdown",
   "id": "a8eac493",
   "metadata": {
    "papermill": {
     "duration": 0.028209,
     "end_time": "2024-02-07T09:51:08.070237",
     "exception": false,
     "start_time": "2024-02-07T09:51:08.042028",
     "status": "completed"
    },
    "tags": []
   },
   "source": [
    "<a id=\"8\"></a>\n",
    "## 3.1 Multiple Linear Regression Model using GPA, SAT and Attendance\n",
    "#### _(attendance data being categorical data)_"
   ]
  },
  {
   "cell_type": "markdown",
   "id": "4ad4c710",
   "metadata": {
    "papermill": {
     "duration": 0.027417,
     "end_time": "2024-02-07T09:51:08.125751",
     "exception": false,
     "start_time": "2024-02-07T09:51:08.098334",
     "status": "completed"
    },
    "tags": []
   },
   "source": [
    "#### In this case we are provided the data of students' SAT scores, their GPA. If a student has attended more than or equal to 75% of the lectures, that corresponding column value of Attendance is 'Yes'. In case the student has not attended a minimum of 75% of the total lectures in the program, the corresponding row value for the Attendance column for that student is 'No'."
   ]
  },
  {
   "cell_type": "code",
   "execution_count": 31,
   "id": "5b5c9a3b",
   "metadata": {
    "execution": {
     "iopub.execute_input": "2024-02-07T09:51:08.183160Z",
     "iopub.status.busy": "2024-02-07T09:51:08.182744Z",
     "iopub.status.idle": "2024-02-07T09:51:08.189258Z",
     "shell.execute_reply": "2024-02-07T09:51:08.188022Z"
    },
    "papermill": {
     "duration": 0.038002,
     "end_time": "2024-02-07T09:51:08.191534",
     "exception": false,
     "start_time": "2024-02-07T09:51:08.153532",
     "status": "completed"
    },
    "tags": []
   },
   "outputs": [],
   "source": [
    "# Importing the relevant libraries\n",
    "import numpy as np\n",
    "import pandas as pd\n",
    "import matplotlib.pyplot as plt\n",
    "import statsmodels.api as sm\n",
    "import seaborn as sns\n",
    "# Setting the styles to Seaborn\n",
    "sns.set()"
   ]
  },
  {
   "cell_type": "code",
   "execution_count": 32,
   "id": "4f64b529",
   "metadata": {
    "execution": {
     "iopub.execute_input": "2024-02-07T09:51:08.249100Z",
     "iopub.status.busy": "2024-02-07T09:51:08.248338Z",
     "iopub.status.idle": "2024-02-07T09:51:08.270569Z",
     "shell.execute_reply": "2024-02-07T09:51:08.269463Z"
    },
    "papermill": {
     "duration": 0.053704,
     "end_time": "2024-02-07T09:51:08.272942",
     "exception": false,
     "start_time": "2024-02-07T09:51:08.219238",
     "status": "completed"
    },
    "tags": []
   },
   "outputs": [
    {
     "data": {
      "text/html": [
       "<div>\n",
       "<style scoped>\n",
       "    .dataframe tbody tr th:only-of-type {\n",
       "        vertical-align: middle;\n",
       "    }\n",
       "\n",
       "    .dataframe tbody tr th {\n",
       "        vertical-align: top;\n",
       "    }\n",
       "\n",
       "    .dataframe thead th {\n",
       "        text-align: right;\n",
       "    }\n",
       "</style>\n",
       "<table border=\"1\" class=\"dataframe\">\n",
       "  <thead>\n",
       "    <tr style=\"text-align: right;\">\n",
       "      <th></th>\n",
       "      <th>SAT</th>\n",
       "      <th>GPA</th>\n",
       "      <th>Attendance</th>\n",
       "    </tr>\n",
       "  </thead>\n",
       "  <tbody>\n",
       "    <tr>\n",
       "      <th>0</th>\n",
       "      <td>1714</td>\n",
       "      <td>2.40</td>\n",
       "      <td>No</td>\n",
       "    </tr>\n",
       "    <tr>\n",
       "      <th>1</th>\n",
       "      <td>1664</td>\n",
       "      <td>2.52</td>\n",
       "      <td>No</td>\n",
       "    </tr>\n",
       "    <tr>\n",
       "      <th>2</th>\n",
       "      <td>1760</td>\n",
       "      <td>2.54</td>\n",
       "      <td>No</td>\n",
       "    </tr>\n",
       "    <tr>\n",
       "      <th>3</th>\n",
       "      <td>1685</td>\n",
       "      <td>2.74</td>\n",
       "      <td>No</td>\n",
       "    </tr>\n",
       "    <tr>\n",
       "      <th>4</th>\n",
       "      <td>1693</td>\n",
       "      <td>2.83</td>\n",
       "      <td>No</td>\n",
       "    </tr>\n",
       "    <tr>\n",
       "      <th>...</th>\n",
       "      <td>...</td>\n",
       "      <td>...</td>\n",
       "      <td>...</td>\n",
       "    </tr>\n",
       "    <tr>\n",
       "      <th>79</th>\n",
       "      <td>1936</td>\n",
       "      <td>3.71</td>\n",
       "      <td>Yes</td>\n",
       "    </tr>\n",
       "    <tr>\n",
       "      <th>80</th>\n",
       "      <td>1810</td>\n",
       "      <td>3.71</td>\n",
       "      <td>Yes</td>\n",
       "    </tr>\n",
       "    <tr>\n",
       "      <th>81</th>\n",
       "      <td>1987</td>\n",
       "      <td>3.73</td>\n",
       "      <td>No</td>\n",
       "    </tr>\n",
       "    <tr>\n",
       "      <th>82</th>\n",
       "      <td>1962</td>\n",
       "      <td>3.76</td>\n",
       "      <td>Yes</td>\n",
       "    </tr>\n",
       "    <tr>\n",
       "      <th>83</th>\n",
       "      <td>2050</td>\n",
       "      <td>3.81</td>\n",
       "      <td>Yes</td>\n",
       "    </tr>\n",
       "  </tbody>\n",
       "</table>\n",
       "<p>84 rows × 3 columns</p>\n",
       "</div>"
      ],
      "text/plain": [
       "     SAT   GPA Attendance\n",
       "0   1714  2.40         No\n",
       "1   1664  2.52         No\n",
       "2   1760  2.54         No\n",
       "3   1685  2.74         No\n",
       "4   1693  2.83         No\n",
       "..   ...   ...        ...\n",
       "79  1936  3.71        Yes\n",
       "80  1810  3.71        Yes\n",
       "81  1987  3.73         No\n",
       "82  1962  3.76        Yes\n",
       "83  2050  3.81        Yes\n",
       "\n",
       "[84 rows x 3 columns]"
      ]
     },
     "execution_count": 32,
     "metadata": {},
     "output_type": "execute_result"
    }
   ],
   "source": [
    "# Loading the required data\n",
    "categorical_data = pd.read_csv('/kaggle/input/gpa-sat-attendance/gpa_sat_attendance.csv')\n",
    "categorical_data"
   ]
  },
  {
   "cell_type": "code",
   "execution_count": 33,
   "id": "a1f1c8db",
   "metadata": {
    "execution": {
     "iopub.execute_input": "2024-02-07T09:51:08.331359Z",
     "iopub.status.busy": "2024-02-07T09:51:08.330904Z",
     "iopub.status.idle": "2024-02-07T09:51:08.355255Z",
     "shell.execute_reply": "2024-02-07T09:51:08.354334Z"
    },
    "papermill": {
     "duration": 0.056394,
     "end_time": "2024-02-07T09:51:08.357551",
     "exception": false,
     "start_time": "2024-02-07T09:51:08.301157",
     "status": "completed"
    },
    "tags": []
   },
   "outputs": [
    {
     "data": {
      "text/html": [
       "<div>\n",
       "<style scoped>\n",
       "    .dataframe tbody tr th:only-of-type {\n",
       "        vertical-align: middle;\n",
       "    }\n",
       "\n",
       "    .dataframe tbody tr th {\n",
       "        vertical-align: top;\n",
       "    }\n",
       "\n",
       "    .dataframe thead th {\n",
       "        text-align: right;\n",
       "    }\n",
       "</style>\n",
       "<table border=\"1\" class=\"dataframe\">\n",
       "  <thead>\n",
       "    <tr style=\"text-align: right;\">\n",
       "      <th></th>\n",
       "      <th>SAT</th>\n",
       "      <th>GPA</th>\n",
       "      <th>Attendance</th>\n",
       "    </tr>\n",
       "  </thead>\n",
       "  <tbody>\n",
       "    <tr>\n",
       "      <th>count</th>\n",
       "      <td>84.000000</td>\n",
       "      <td>84.000000</td>\n",
       "      <td>84.000000</td>\n",
       "    </tr>\n",
       "    <tr>\n",
       "      <th>mean</th>\n",
       "      <td>1845.273810</td>\n",
       "      <td>3.330238</td>\n",
       "      <td>0.464286</td>\n",
       "    </tr>\n",
       "    <tr>\n",
       "      <th>std</th>\n",
       "      <td>104.530661</td>\n",
       "      <td>0.271617</td>\n",
       "      <td>0.501718</td>\n",
       "    </tr>\n",
       "    <tr>\n",
       "      <th>min</th>\n",
       "      <td>1634.000000</td>\n",
       "      <td>2.400000</td>\n",
       "      <td>0.000000</td>\n",
       "    </tr>\n",
       "    <tr>\n",
       "      <th>25%</th>\n",
       "      <td>1772.000000</td>\n",
       "      <td>3.190000</td>\n",
       "      <td>0.000000</td>\n",
       "    </tr>\n",
       "    <tr>\n",
       "      <th>50%</th>\n",
       "      <td>1846.000000</td>\n",
       "      <td>3.380000</td>\n",
       "      <td>0.000000</td>\n",
       "    </tr>\n",
       "    <tr>\n",
       "      <th>75%</th>\n",
       "      <td>1934.000000</td>\n",
       "      <td>3.502500</td>\n",
       "      <td>1.000000</td>\n",
       "    </tr>\n",
       "    <tr>\n",
       "      <th>max</th>\n",
       "      <td>2050.000000</td>\n",
       "      <td>3.810000</td>\n",
       "      <td>1.000000</td>\n",
       "    </tr>\n",
       "  </tbody>\n",
       "</table>\n",
       "</div>"
      ],
      "text/plain": [
       "               SAT        GPA  Attendance\n",
       "count    84.000000  84.000000   84.000000\n",
       "mean   1845.273810   3.330238    0.464286\n",
       "std     104.530661   0.271617    0.501718\n",
       "min    1634.000000   2.400000    0.000000\n",
       "25%    1772.000000   3.190000    0.000000\n",
       "50%    1846.000000   3.380000    0.000000\n",
       "75%    1934.000000   3.502500    1.000000\n",
       "max    2050.000000   3.810000    1.000000"
      ]
     },
     "execution_count": 33,
     "metadata": {},
     "output_type": "execute_result"
    }
   ],
   "source": [
    "# In order proceed with regression, we will need to transform the categorical values into numerical values\n",
    "# So, we will map all 'No' entries with 0 and all 'Yes' entries with 1.\n",
    "# We create a new dataframe named 'working_data' in which we will put them.\n",
    "# Note that 'working_data' is a copy of categorical_data.\n",
    "working_data = categorical_data.copy()\n",
    "working_data['Attendance'] = working_data['Attendance'].map({'Yes': 1, 'No': 0})\n",
    "\n",
    "# Now let's see what's inside the dataframe\n",
    "working_data.describe()"
   ]
  },
  {
   "cell_type": "markdown",
   "id": "3554c36d",
   "metadata": {
    "papermill": {
     "duration": 0.027855,
     "end_time": "2024-02-07T09:51:08.414346",
     "exception": false,
     "start_time": "2024-02-07T09:51:08.386491",
     "status": "completed"
    },
    "tags": []
   },
   "source": [
    "#### Here we observe that about 46.43% of the total students have attended 75% or more than 75% of the lectures"
   ]
  },
  {
   "cell_type": "code",
   "execution_count": 34,
   "id": "30985c99",
   "metadata": {
    "execution": {
     "iopub.execute_input": "2024-02-07T09:51:08.472761Z",
     "iopub.status.busy": "2024-02-07T09:51:08.471967Z",
     "iopub.status.idle": "2024-02-07T09:51:08.478652Z",
     "shell.execute_reply": "2024-02-07T09:51:08.477642Z"
    },
    "papermill": {
     "duration": 0.038444,
     "end_time": "2024-02-07T09:51:08.480918",
     "exception": false,
     "start_time": "2024-02-07T09:51:08.442474",
     "status": "completed"
    },
    "tags": []
   },
   "outputs": [],
   "source": [
    "# Forming the regression equation. Our dependent variable 'y' is the 'GPA'.\n",
    "y = working_data[['GPA']]\n",
    "\n",
    "# In this case the independent variables are 'SAT' scores and 'Attendance'\n",
    "x1 = working_data[['SAT', 'Attendance']]"
   ]
  },
  {
   "cell_type": "code",
   "execution_count": 35,
   "id": "27d0963b",
   "metadata": {
    "execution": {
     "iopub.execute_input": "2024-02-07T09:51:08.539973Z",
     "iopub.status.busy": "2024-02-07T09:51:08.539188Z",
     "iopub.status.idle": "2024-02-07T09:51:08.575338Z",
     "shell.execute_reply": "2024-02-07T09:51:08.574099Z"
    },
    "papermill": {
     "duration": 0.068681,
     "end_time": "2024-02-07T09:51:08.577841",
     "exception": false,
     "start_time": "2024-02-07T09:51:08.509160",
     "status": "completed"
    },
    "tags": []
   },
   "outputs": [
    {
     "data": {
      "text/html": [
       "<table class=\"simpletable\">\n",
       "<caption>OLS Regression Results</caption>\n",
       "<tr>\n",
       "  <th>Dep. Variable:</th>           <td>GPA</td>       <th>  R-squared:         </th> <td>   0.565</td>\n",
       "</tr>\n",
       "<tr>\n",
       "  <th>Model:</th>                   <td>OLS</td>       <th>  Adj. R-squared:    </th> <td>   0.555</td>\n",
       "</tr>\n",
       "<tr>\n",
       "  <th>Method:</th>             <td>Least Squares</td>  <th>  F-statistic:       </th> <td>   52.70</td>\n",
       "</tr>\n",
       "<tr>\n",
       "  <th>Date:</th>             <td>Wed, 07 Feb 2024</td> <th>  Prob (F-statistic):</th> <td>2.19e-15</td>\n",
       "</tr>\n",
       "<tr>\n",
       "  <th>Time:</th>                 <td>09:51:08</td>     <th>  Log-Likelihood:    </th> <td>  25.798</td>\n",
       "</tr>\n",
       "<tr>\n",
       "  <th>No. Observations:</th>      <td>    84</td>      <th>  AIC:               </th> <td>  -45.60</td>\n",
       "</tr>\n",
       "<tr>\n",
       "  <th>Df Residuals:</th>          <td>    81</td>      <th>  BIC:               </th> <td>  -38.30</td>\n",
       "</tr>\n",
       "<tr>\n",
       "  <th>Df Model:</th>              <td>     2</td>      <th>                     </th>     <td> </td>   \n",
       "</tr>\n",
       "<tr>\n",
       "  <th>Covariance Type:</th>      <td>nonrobust</td>    <th>                     </th>     <td> </td>   \n",
       "</tr>\n",
       "</table>\n",
       "<table class=\"simpletable\">\n",
       "<tr>\n",
       "       <td></td>         <th>coef</th>     <th>std err</th>      <th>t</th>      <th>P>|t|</th>  <th>[0.025</th>    <th>0.975]</th>  \n",
       "</tr>\n",
       "<tr>\n",
       "  <th>const</th>      <td>    0.6439</td> <td>    0.358</td> <td>    1.797</td> <td> 0.076</td> <td>   -0.069</td> <td>    1.357</td>\n",
       "</tr>\n",
       "<tr>\n",
       "  <th>SAT</th>        <td>    0.0014</td> <td>    0.000</td> <td>    7.141</td> <td> 0.000</td> <td>    0.001</td> <td>    0.002</td>\n",
       "</tr>\n",
       "<tr>\n",
       "  <th>Attendance</th> <td>    0.2226</td> <td>    0.041</td> <td>    5.451</td> <td> 0.000</td> <td>    0.141</td> <td>    0.304</td>\n",
       "</tr>\n",
       "</table>\n",
       "<table class=\"simpletable\">\n",
       "<tr>\n",
       "  <th>Omnibus:</th>       <td>19.560</td> <th>  Durbin-Watson:     </th> <td>   1.009</td>\n",
       "</tr>\n",
       "<tr>\n",
       "  <th>Prob(Omnibus):</th> <td> 0.000</td> <th>  Jarque-Bera (JB):  </th> <td>  27.189</td>\n",
       "</tr>\n",
       "<tr>\n",
       "  <th>Skew:</th>          <td>-1.028</td> <th>  Prob(JB):          </th> <td>1.25e-06</td>\n",
       "</tr>\n",
       "<tr>\n",
       "  <th>Kurtosis:</th>      <td> 4.881</td> <th>  Cond. No.          </th> <td>3.35e+04</td>\n",
       "</tr>\n",
       "</table><br/><br/>Notes:<br/>[1] Standard Errors assume that the covariance matrix of the errors is correctly specified.<br/>[2] The condition number is large, 3.35e+04. This might indicate that there are<br/>strong multicollinearity or other numerical problems."
      ],
      "text/latex": [
       "\\begin{center}\n",
       "\\begin{tabular}{lclc}\n",
       "\\toprule\n",
       "\\textbf{Dep. Variable:}    &       GPA        & \\textbf{  R-squared:         } &     0.565   \\\\\n",
       "\\textbf{Model:}            &       OLS        & \\textbf{  Adj. R-squared:    } &     0.555   \\\\\n",
       "\\textbf{Method:}           &  Least Squares   & \\textbf{  F-statistic:       } &     52.70   \\\\\n",
       "\\textbf{Date:}             & Wed, 07 Feb 2024 & \\textbf{  Prob (F-statistic):} &  2.19e-15   \\\\\n",
       "\\textbf{Time:}             &     09:51:08     & \\textbf{  Log-Likelihood:    } &    25.798   \\\\\n",
       "\\textbf{No. Observations:} &          84      & \\textbf{  AIC:               } &    -45.60   \\\\\n",
       "\\textbf{Df Residuals:}     &          81      & \\textbf{  BIC:               } &    -38.30   \\\\\n",
       "\\textbf{Df Model:}         &           2      & \\textbf{                     } &             \\\\\n",
       "\\textbf{Covariance Type:}  &    nonrobust     & \\textbf{                     } &             \\\\\n",
       "\\bottomrule\n",
       "\\end{tabular}\n",
       "\\begin{tabular}{lcccccc}\n",
       "                    & \\textbf{coef} & \\textbf{std err} & \\textbf{t} & \\textbf{P$> |$t$|$} & \\textbf{[0.025} & \\textbf{0.975]}  \\\\\n",
       "\\midrule\n",
       "\\textbf{const}      &       0.6439  &        0.358     &     1.797  &         0.076        &       -0.069    &        1.357     \\\\\n",
       "\\textbf{SAT}        &       0.0014  &        0.000     &     7.141  &         0.000        &        0.001    &        0.002     \\\\\n",
       "\\textbf{Attendance} &       0.2226  &        0.041     &     5.451  &         0.000        &        0.141    &        0.304     \\\\\n",
       "\\bottomrule\n",
       "\\end{tabular}\n",
       "\\begin{tabular}{lclc}\n",
       "\\textbf{Omnibus:}       & 19.560 & \\textbf{  Durbin-Watson:     } &    1.009  \\\\\n",
       "\\textbf{Prob(Omnibus):} &  0.000 & \\textbf{  Jarque-Bera (JB):  } &   27.189  \\\\\n",
       "\\textbf{Skew:}          & -1.028 & \\textbf{  Prob(JB):          } & 1.25e-06  \\\\\n",
       "\\textbf{Kurtosis:}      &  4.881 & \\textbf{  Cond. No.          } & 3.35e+04  \\\\\n",
       "\\bottomrule\n",
       "\\end{tabular}\n",
       "%\\caption{OLS Regression Results}\n",
       "\\end{center}\n",
       "\n",
       "Notes: \\newline\n",
       " [1] Standard Errors assume that the covariance matrix of the errors is correctly specified. \\newline\n",
       " [2] The condition number is large, 3.35e+04. This might indicate that there are \\newline\n",
       " strong multicollinearity or other numerical problems."
      ],
      "text/plain": [
       "<class 'statsmodels.iolib.summary.Summary'>\n",
       "\"\"\"\n",
       "                            OLS Regression Results                            \n",
       "==============================================================================\n",
       "Dep. Variable:                    GPA   R-squared:                       0.565\n",
       "Model:                            OLS   Adj. R-squared:                  0.555\n",
       "Method:                 Least Squares   F-statistic:                     52.70\n",
       "Date:                Wed, 07 Feb 2024   Prob (F-statistic):           2.19e-15\n",
       "Time:                        09:51:08   Log-Likelihood:                 25.798\n",
       "No. Observations:                  84   AIC:                            -45.60\n",
       "Df Residuals:                      81   BIC:                            -38.30\n",
       "Df Model:                           2                                         \n",
       "Covariance Type:            nonrobust                                         \n",
       "==============================================================================\n",
       "                 coef    std err          t      P>|t|      [0.025      0.975]\n",
       "------------------------------------------------------------------------------\n",
       "const          0.6439      0.358      1.797      0.076      -0.069       1.357\n",
       "SAT            0.0014      0.000      7.141      0.000       0.001       0.002\n",
       "Attendance     0.2226      0.041      5.451      0.000       0.141       0.304\n",
       "==============================================================================\n",
       "Omnibus:                       19.560   Durbin-Watson:                   1.009\n",
       "Prob(Omnibus):                  0.000   Jarque-Bera (JB):               27.189\n",
       "Skew:                          -1.028   Prob(JB):                     1.25e-06\n",
       "Kurtosis:                       4.881   Cond. No.                     3.35e+04\n",
       "==============================================================================\n",
       "\n",
       "Notes:\n",
       "[1] Standard Errors assume that the covariance matrix of the errors is correctly specified.\n",
       "[2] The condition number is large, 3.35e+04. This might indicate that there are\n",
       "strong multicollinearity or other numerical problems.\n",
       "\"\"\""
      ]
     },
     "execution_count": 35,
     "metadata": {},
     "output_type": "execute_result"
    }
   ],
   "source": [
    "# Adding a constant. Esentially, we are adding a new column (equal in lenght to x), which consists only of 1s\n",
    "x = sm.add_constant(x1)\n",
    "# Fitting the model, according to the OLS (ordinary least squares) method with a dependent variable y and an idependent x\n",
    "results = sm.OLS(y,x).fit()\n",
    "# Printing the summary of the regression.\n",
    "results.summary()"
   ]
  },
  {
   "cell_type": "markdown",
   "id": "be4947fd",
   "metadata": {
    "papermill": {
     "duration": 0.028324,
     "end_time": "2024-02-07T09:51:08.634773",
     "exception": false,
     "start_time": "2024-02-07T09:51:08.606449",
     "status": "completed"
    },
    "tags": []
   },
   "source": [
    "#### The Regression eqauation we get here is:\n",
    "#### $GPA = 0.6439 + 0.0014 * SAT + 0.2226 * Attendance$\n",
    "#### _(where 'Attendance' is whether the student has attended 75% or more of total lectures, a score of 1 is given if 'Yes' and a score of 0 is given if 'No')_\n",
    "\n",
    "#### When the student has attended 75% or more of the total lectures, the regression equation becomes:\n",
    "\n",
    "#### $GPA = 0.8665 + 0.0014 * SAT$\n",
    "\n",
    "#### Let us now observe how the GPA scores improve when the student attends 75% or more of the total lectures."
   ]
  },
  {
   "cell_type": "code",
   "execution_count": 36,
   "id": "2906206d",
   "metadata": {
    "execution": {
     "iopub.execute_input": "2024-02-07T09:51:08.695566Z",
     "iopub.status.busy": "2024-02-07T09:51:08.695142Z",
     "iopub.status.idle": "2024-02-07T09:51:09.075411Z",
     "shell.execute_reply": "2024-02-07T09:51:09.074520Z"
    },
    "papermill": {
     "duration": 0.414065,
     "end_time": "2024-02-07T09:51:09.077750",
     "exception": false,
     "start_time": "2024-02-07T09:51:08.663685",
     "status": "completed"
    },
    "tags": []
   },
   "outputs": [
    {
     "data": {
      "image/png": "[encoded data removed]",
      "text/plain": [
       "<Figure size 640x480 with 1 Axes>"
      ]
     },
     "metadata": {},
     "output_type": "display_data"
    }
   ],
   "source": [
    "    # Create a scatter plot of SAT and GPA\n",
    "    plt.scatter(working_data['SAT'],y, c='orange')\n",
    "    # Define the two regression equations, depending on whether they attended (yes), or didn't (no)\n",
    "    yhat_no = 0.6439 + 0.0014*working_data['SAT']\n",
    "    yhat_yes = 0.8665 + 0.0014*working_data['SAT']\n",
    "    # Plot the two regression lines\n",
    "    fig = plt.plot(working_data['SAT'],yhat_no, lw=2.5, c='red', label ='Attendance < 75%')\n",
    "    fig = plt.plot(working_data['SAT'],yhat_yes, lw=2.5, c='purple', label = 'Attendance >= 75%')\n",
    "    fig = plt.legend(loc='upper left', shadow=True, fontsize='small')\n",
    "    # Labelling the axes\n",
    "    plt.xlabel('SAT', fontsize = 20)\n",
    "    plt.ylabel('GPA', fontsize = 20)\n",
    "    plt.show()"
   ]
  },
  {
   "cell_type": "markdown",
   "id": "9d450453",
   "metadata": {
    "papermill": {
     "duration": 0.033569,
     "end_time": "2024-02-07T09:51:09.142378",
     "exception": false,
     "start_time": "2024-02-07T09:51:09.108809",
     "status": "completed"
    },
    "tags": []
   },
   "source": [
    "#### We observe in this case that there is an improvement of 0.2226 in GPA when the student attends 75% or more lectures in the given program.\n",
    "\n",
    "#### Now, we predict the GPA scores of the following students using the above model:\n",
    "#### 1. Alice who scored 1720 in SAT and attended more than 75% of the total lectures\n",
    "#### 2. Bob who scored 1800 in SAT and attended less than 75% of the total lectures"
   ]
  },
  {
   "cell_type": "code",
   "execution_count": 37,
   "id": "a93163e0",
   "metadata": {
    "execution": {
     "iopub.execute_input": "2024-02-07T09:51:09.203308Z",
     "iopub.status.busy": "2024-02-07T09:51:09.202642Z",
     "iopub.status.idle": "2024-02-07T09:51:09.217526Z",
     "shell.execute_reply": "2024-02-07T09:51:09.216326Z"
    },
    "papermill": {
     "duration": 0.048743,
     "end_time": "2024-02-07T09:51:09.220415",
     "exception": false,
     "start_time": "2024-02-07T09:51:09.171672",
     "status": "completed"
    },
    "tags": []
   },
   "outputs": [
    {
     "data": {
      "text/html": [
       "<div>\n",
       "<style scoped>\n",
       "    .dataframe tbody tr th:only-of-type {\n",
       "        vertical-align: middle;\n",
       "    }\n",
       "\n",
       "    .dataframe tbody tr th {\n",
       "        vertical-align: top;\n",
       "    }\n",
       "\n",
       "    .dataframe thead th {\n",
       "        text-align: right;\n",
       "    }\n",
       "</style>\n",
       "<table border=\"1\" class=\"dataframe\">\n",
       "  <thead>\n",
       "    <tr style=\"text-align: right;\">\n",
       "      <th></th>\n",
       "      <th>const</th>\n",
       "      <th>SAT</th>\n",
       "      <th>Attendance</th>\n",
       "    </tr>\n",
       "  </thead>\n",
       "  <tbody>\n",
       "    <tr>\n",
       "      <th>0</th>\n",
       "      <td>1.0</td>\n",
       "      <td>1714</td>\n",
       "      <td>0</td>\n",
       "    </tr>\n",
       "    <tr>\n",
       "      <th>1</th>\n",
       "      <td>1.0</td>\n",
       "      <td>1664</td>\n",
       "      <td>0</td>\n",
       "    </tr>\n",
       "    <tr>\n",
       "      <th>2</th>\n",
       "      <td>1.0</td>\n",
       "      <td>1760</td>\n",
       "      <td>0</td>\n",
       "    </tr>\n",
       "    <tr>\n",
       "      <th>3</th>\n",
       "      <td>1.0</td>\n",
       "      <td>1685</td>\n",
       "      <td>0</td>\n",
       "    </tr>\n",
       "    <tr>\n",
       "      <th>4</th>\n",
       "      <td>1.0</td>\n",
       "      <td>1693</td>\n",
       "      <td>0</td>\n",
       "    </tr>\n",
       "    <tr>\n",
       "      <th>...</th>\n",
       "      <td>...</td>\n",
       "      <td>...</td>\n",
       "      <td>...</td>\n",
       "    </tr>\n",
       "    <tr>\n",
       "      <th>79</th>\n",
       "      <td>1.0</td>\n",
       "      <td>1936</td>\n",
       "      <td>1</td>\n",
       "    </tr>\n",
       "    <tr>\n",
       "      <th>80</th>\n",
       "      <td>1.0</td>\n",
       "      <td>1810</td>\n",
       "      <td>1</td>\n",
       "    </tr>\n",
       "    <tr>\n",
       "      <th>81</th>\n",
       "      <td>1.0</td>\n",
       "      <td>1987</td>\n",
       "      <td>0</td>\n",
       "    </tr>\n",
       "    <tr>\n",
       "      <th>82</th>\n",
       "      <td>1.0</td>\n",
       "      <td>1962</td>\n",
       "      <td>1</td>\n",
       "    </tr>\n",
       "    <tr>\n",
       "      <th>83</th>\n",
       "      <td>1.0</td>\n",
       "      <td>2050</td>\n",
       "      <td>1</td>\n",
       "    </tr>\n",
       "  </tbody>\n",
       "</table>\n",
       "<p>84 rows × 3 columns</p>\n",
       "</div>"
      ],
      "text/plain": [
       "    const   SAT  Attendance\n",
       "0     1.0  1714           0\n",
       "1     1.0  1664           0\n",
       "2     1.0  1760           0\n",
       "3     1.0  1685           0\n",
       "4     1.0  1693           0\n",
       "..    ...   ...         ...\n",
       "79    1.0  1936           1\n",
       "80    1.0  1810           1\n",
       "81    1.0  1987           0\n",
       "82    1.0  1962           1\n",
       "83    1.0  2050           1\n",
       "\n",
       "[84 rows x 3 columns]"
      ]
     },
     "execution_count": 37,
     "metadata": {},
     "output_type": "execute_result"
    }
   ],
   "source": [
    "# Glancing the predictor variable x, as we will need to prepare a new similar dataframe\n",
    "x"
   ]
  },
  {
   "cell_type": "code",
   "execution_count": 38,
   "id": "ce49bd91",
   "metadata": {
    "execution": {
     "iopub.execute_input": "2024-02-07T09:51:09.282045Z",
     "iopub.status.busy": "2024-02-07T09:51:09.281398Z",
     "iopub.status.idle": "2024-02-07T09:51:09.293583Z",
     "shell.execute_reply": "2024-02-07T09:51:09.292447Z"
    },
    "papermill": {
     "duration": 0.046016,
     "end_time": "2024-02-07T09:51:09.295966",
     "exception": false,
     "start_time": "2024-02-07T09:51:09.249950",
     "status": "completed"
    },
    "tags": []
   },
   "outputs": [
    {
     "data": {
      "text/html": [
       "<div>\n",
       "<style scoped>\n",
       "    .dataframe tbody tr th:only-of-type {\n",
       "        vertical-align: middle;\n",
       "    }\n",
       "\n",
       "    .dataframe tbody tr th {\n",
       "        vertical-align: top;\n",
       "    }\n",
       "\n",
       "    .dataframe thead th {\n",
       "        text-align: right;\n",
       "    }\n",
       "</style>\n",
       "<table border=\"1\" class=\"dataframe\">\n",
       "  <thead>\n",
       "    <tr style=\"text-align: right;\">\n",
       "      <th></th>\n",
       "      <th>const</th>\n",
       "      <th>SAT</th>\n",
       "      <th>attendance</th>\n",
       "    </tr>\n",
       "  </thead>\n",
       "  <tbody>\n",
       "    <tr>\n",
       "      <th>Alice</th>\n",
       "      <td>1</td>\n",
       "      <td>1720</td>\n",
       "      <td>1</td>\n",
       "    </tr>\n",
       "    <tr>\n",
       "      <th>Bob</th>\n",
       "      <td>1</td>\n",
       "      <td>1800</td>\n",
       "      <td>0</td>\n",
       "    </tr>\n",
       "  </tbody>\n",
       "</table>\n",
       "</div>"
      ],
      "text/plain": [
       "       const   SAT  attendance\n",
       "Alice      1  1720           1\n",
       "Bob        1  1800           0"
      ]
     },
     "execution_count": 38,
     "metadata": {},
     "output_type": "execute_result"
    }
   ],
   "source": [
    "# Creating a new data frame to include the SAT scores of the students whose GPA is to be predicted\n",
    "to_predict = pd.DataFrame({'const': 1, 'SAT': [1720, 1800], 'attendance': [1,0]})\n",
    "to_predict.rename(index = {0: 'Alice', 1: 'Bob'})"
   ]
  },
  {
   "cell_type": "code",
   "execution_count": 39,
   "id": "54e49763",
   "metadata": {
    "execution": {
     "iopub.execute_input": "2024-02-07T09:51:09.358088Z",
     "iopub.status.busy": "2024-02-07T09:51:09.357425Z",
     "iopub.status.idle": "2024-02-07T09:51:09.367062Z",
     "shell.execute_reply": "2024-02-07T09:51:09.365913Z"
    },
    "papermill": {
     "duration": 0.044004,
     "end_time": "2024-02-07T09:51:09.369617",
     "exception": false,
     "start_time": "2024-02-07T09:51:09.325613",
     "status": "completed"
    },
    "tags": []
   },
   "outputs": [
    {
     "data": {
      "text/plain": [
       "Alice    3.274153\n",
       "Bob      3.163493\n",
       "dtype: float64"
      ]
     },
     "execution_count": 39,
     "metadata": {},
     "output_type": "execute_result"
    }
   ],
   "source": [
    "# Predicting the GPA scores of Alice & Bob\n",
    "predictions = results.predict(to_predict)\n",
    "predictions.rename(index = {0: 'Alice', 1: 'Bob'})"
   ]
  },
  {
   "cell_type": "markdown",
   "id": "c6d561c9",
   "metadata": {
    "papermill": {
     "duration": 0.029772,
     "end_time": "2024-02-07T09:51:09.431091",
     "exception": false,
     "start_time": "2024-02-07T09:51:09.401319",
     "status": "completed"
    },
    "tags": []
   },
   "source": [
    "#### As per the above model, the predicted GPA of Alice is 3.27 while the predicted GPA of Bob is 3.16\n",
    "#### We notice that despite Alice having a lower SAT score *(1720)* than that of Bob *(1800)*, the predicted GPA of Alice *(3.27)* is much higher than that of Bob *(3.16)*.\n",
    "#### Alice attending more than 75% of the total lectures of the said program does contribute significantly to the final GPA.\n",
    "-----------------------------------------"
   ]
  },
  {
   "cell_type": "markdown",
   "id": "a28f2d38",
   "metadata": {
    "papermill": {
     "duration": 0.030538,
     "end_time": "2024-02-07T09:51:09.491816",
     "exception": false,
     "start_time": "2024-02-07T09:51:09.461278",
     "status": "completed"
    },
    "tags": []
   },
   "source": [
    "<a id=\"9\"></a>\n",
    "## 3.2 Multiple Linear Regression Model using Real Estate Data (Price vs Size, Year & Sea-view)\n",
    "## _(where Sea-view is categorical data)_"
   ]
  },
  {
   "cell_type": "code",
   "execution_count": 40,
   "id": "f52f00fa",
   "metadata": {
    "execution": {
     "iopub.execute_input": "2024-02-07T09:51:09.553511Z",
     "iopub.status.busy": "2024-02-07T09:51:09.553093Z",
     "iopub.status.idle": "2024-02-07T09:51:09.558803Z",
     "shell.execute_reply": "2024-02-07T09:51:09.557960Z"
    },
    "papermill": {
     "duration": 0.039247,
     "end_time": "2024-02-07T09:51:09.560957",
     "exception": false,
     "start_time": "2024-02-07T09:51:09.521710",
     "status": "completed"
    },
    "tags": []
   },
   "outputs": [],
   "source": [
    "# Importing the relevant libraries\n",
    "import numpy as np\n",
    "import pandas as pd\n",
    "import statsmodels.api as sm\n",
    "import matplotlib.pyplot as plt\n",
    "import seaborn as sns\n",
    "# Overriding the default matplotlib styles with those of Seaborn\n",
    "sns.set()"
   ]
  },
  {
   "cell_type": "code",
   "execution_count": 41,
   "id": "6aa422f7",
   "metadata": {
    "execution": {
     "iopub.execute_input": "2024-02-07T09:51:09.623220Z",
     "iopub.status.busy": "2024-02-07T09:51:09.622365Z",
     "iopub.status.idle": "2024-02-07T09:51:09.642790Z",
     "shell.execute_reply": "2024-02-07T09:51:09.641604Z"
    },
    "papermill": {
     "duration": 0.054648,
     "end_time": "2024-02-07T09:51:09.645563",
     "exception": false,
     "start_time": "2024-02-07T09:51:09.590915",
     "status": "completed"
    },
    "tags": []
   },
   "outputs": [
    {
     "data": {
      "text/html": [
       "<div>\n",
       "<style scoped>\n",
       "    .dataframe tbody tr th:only-of-type {\n",
       "        vertical-align: middle;\n",
       "    }\n",
       "\n",
       "    .dataframe tbody tr th {\n",
       "        vertical-align: top;\n",
       "    }\n",
       "\n",
       "    .dataframe thead th {\n",
       "        text-align: right;\n",
       "    }\n",
       "</style>\n",
       "<table border=\"1\" class=\"dataframe\">\n",
       "  <thead>\n",
       "    <tr style=\"text-align: right;\">\n",
       "      <th></th>\n",
       "      <th>price</th>\n",
       "      <th>size</th>\n",
       "      <th>view</th>\n",
       "    </tr>\n",
       "  </thead>\n",
       "  <tbody>\n",
       "    <tr>\n",
       "      <th>0</th>\n",
       "      <td>234314.144</td>\n",
       "      <td>643.09</td>\n",
       "      <td>No sea view</td>\n",
       "    </tr>\n",
       "    <tr>\n",
       "      <th>1</th>\n",
       "      <td>228581.528</td>\n",
       "      <td>656.22</td>\n",
       "      <td>No sea view</td>\n",
       "    </tr>\n",
       "    <tr>\n",
       "      <th>2</th>\n",
       "      <td>281626.336</td>\n",
       "      <td>487.29</td>\n",
       "      <td>Sea view</td>\n",
       "    </tr>\n",
       "    <tr>\n",
       "      <th>3</th>\n",
       "      <td>401255.608</td>\n",
       "      <td>1504.75</td>\n",
       "      <td>No sea view</td>\n",
       "    </tr>\n",
       "    <tr>\n",
       "      <th>4</th>\n",
       "      <td>458674.256</td>\n",
       "      <td>1275.46</td>\n",
       "      <td>Sea view</td>\n",
       "    </tr>\n",
       "  </tbody>\n",
       "</table>\n",
       "</div>"
      ],
      "text/plain": [
       "        price     size         view\n",
       "0  234314.144   643.09  No sea view\n",
       "1  228581.528   656.22  No sea view\n",
       "2  281626.336   487.29     Sea view\n",
       "3  401255.608  1504.75  No sea view\n",
       "4  458674.256  1275.46     Sea view"
      ]
     },
     "execution_count": 41,
     "metadata": {},
     "output_type": "execute_result"
    }
   ],
   "source": [
    "# Loading the required data:\n",
    "raw_data = pd.read_csv('/kaggle/input/real-estate-price-size-view/real_estate_price_size_view.csv')\n",
    "# Having a glance at the data\n",
    "raw_data.head()"
   ]
  },
  {
   "cell_type": "code",
   "execution_count": 42,
   "id": "760db316",
   "metadata": {
    "execution": {
     "iopub.execute_input": "2024-02-07T09:51:09.710434Z",
     "iopub.status.busy": "2024-02-07T09:51:09.709440Z",
     "iopub.status.idle": "2024-02-07T09:51:09.735095Z",
     "shell.execute_reply": "2024-02-07T09:51:09.733982Z"
    },
    "papermill": {
     "duration": 0.059957,
     "end_time": "2024-02-07T09:51:09.737670",
     "exception": false,
     "start_time": "2024-02-07T09:51:09.677713",
     "status": "completed"
    },
    "tags": []
   },
   "outputs": [
    {
     "data": {
      "text/html": [
       "<div>\n",
       "<style scoped>\n",
       "    .dataframe tbody tr th:only-of-type {\n",
       "        vertical-align: middle;\n",
       "    }\n",
       "\n",
       "    .dataframe tbody tr th {\n",
       "        vertical-align: top;\n",
       "    }\n",
       "\n",
       "    .dataframe thead th {\n",
       "        text-align: right;\n",
       "    }\n",
       "</style>\n",
       "<table border=\"1\" class=\"dataframe\">\n",
       "  <thead>\n",
       "    <tr style=\"text-align: right;\">\n",
       "      <th></th>\n",
       "      <th>price</th>\n",
       "      <th>size</th>\n",
       "      <th>view</th>\n",
       "    </tr>\n",
       "  </thead>\n",
       "  <tbody>\n",
       "    <tr>\n",
       "      <th>count</th>\n",
       "      <td>100.000000</td>\n",
       "      <td>100.000000</td>\n",
       "      <td>100</td>\n",
       "    </tr>\n",
       "    <tr>\n",
       "      <th>unique</th>\n",
       "      <td>NaN</td>\n",
       "      <td>NaN</td>\n",
       "      <td>2</td>\n",
       "    </tr>\n",
       "    <tr>\n",
       "      <th>top</th>\n",
       "      <td>NaN</td>\n",
       "      <td>NaN</td>\n",
       "      <td>No sea view</td>\n",
       "    </tr>\n",
       "    <tr>\n",
       "      <th>freq</th>\n",
       "      <td>NaN</td>\n",
       "      <td>NaN</td>\n",
       "      <td>51</td>\n",
       "    </tr>\n",
       "    <tr>\n",
       "      <th>mean</th>\n",
       "      <td>292289.470160</td>\n",
       "      <td>853.024200</td>\n",
       "      <td>NaN</td>\n",
       "    </tr>\n",
       "    <tr>\n",
       "      <th>std</th>\n",
       "      <td>77051.727525</td>\n",
       "      <td>297.941951</td>\n",
       "      <td>NaN</td>\n",
       "    </tr>\n",
       "    <tr>\n",
       "      <th>min</th>\n",
       "      <td>154282.128000</td>\n",
       "      <td>479.750000</td>\n",
       "      <td>NaN</td>\n",
       "    </tr>\n",
       "    <tr>\n",
       "      <th>25%</th>\n",
       "      <td>234280.148000</td>\n",
       "      <td>643.330000</td>\n",
       "      <td>NaN</td>\n",
       "    </tr>\n",
       "    <tr>\n",
       "      <th>50%</th>\n",
       "      <td>280590.716000</td>\n",
       "      <td>696.405000</td>\n",
       "      <td>NaN</td>\n",
       "    </tr>\n",
       "    <tr>\n",
       "      <th>75%</th>\n",
       "      <td>335723.696000</td>\n",
       "      <td>1029.322500</td>\n",
       "      <td>NaN</td>\n",
       "    </tr>\n",
       "    <tr>\n",
       "      <th>max</th>\n",
       "      <td>500681.128000</td>\n",
       "      <td>1842.510000</td>\n",
       "      <td>NaN</td>\n",
       "    </tr>\n",
       "  </tbody>\n",
       "</table>\n",
       "</div>"
      ],
      "text/plain": [
       "                price         size         view\n",
       "count      100.000000   100.000000          100\n",
       "unique            NaN          NaN            2\n",
       "top               NaN          NaN  No sea view\n",
       "freq              NaN          NaN           51\n",
       "mean    292289.470160   853.024200          NaN\n",
       "std      77051.727525   297.941951          NaN\n",
       "min     154282.128000   479.750000          NaN\n",
       "25%     234280.148000   643.330000          NaN\n",
       "50%     280590.716000   696.405000          NaN\n",
       "75%     335723.696000  1029.322500          NaN\n",
       "max     500681.128000  1842.510000          NaN"
      ]
     },
     "execution_count": 42,
     "metadata": {},
     "output_type": "execute_result"
    }
   ],
   "source": [
    "# Descriptive statistics of the given data set\n",
    "\n",
    "raw_data.describe(include='all')"
   ]
  },
  {
   "cell_type": "code",
   "execution_count": 43,
   "id": "4aec6f97",
   "metadata": {
    "execution": {
     "iopub.execute_input": "2024-02-07T09:51:09.802680Z",
     "iopub.status.busy": "2024-02-07T09:51:09.802251Z",
     "iopub.status.idle": "2024-02-07T09:51:09.809446Z",
     "shell.execute_reply": "2024-02-07T09:51:09.808210Z"
    },
    "papermill": {
     "duration": 0.042342,
     "end_time": "2024-02-07T09:51:09.811937",
     "exception": false,
     "start_time": "2024-02-07T09:51:09.769595",
     "status": "completed"
    },
    "tags": []
   },
   "outputs": [],
   "source": [
    "# In order proceed with regression, we will need to transform the categorical values into numerical values.\n",
    "# So, we will map all 'No sea view' entries with 0 and all 'Sea view' entries with 1.\n",
    "# We put that in a new dataframe called 'data'.\n",
    "# Note data is a copy of raw_data.\n",
    "data = raw_data.copy()\n",
    "data['view'] = data['view'].map({'Sea view': 1, 'No sea view': 0})"
   ]
  },
  {
   "cell_type": "code",
   "execution_count": 44,
   "id": "33f3ffb0",
   "metadata": {
    "execution": {
     "iopub.execute_input": "2024-02-07T09:51:09.875569Z",
     "iopub.status.busy": "2024-02-07T09:51:09.874420Z",
     "iopub.status.idle": "2024-02-07T09:51:09.889737Z",
     "shell.execute_reply": "2024-02-07T09:51:09.888530Z"
    },
    "papermill": {
     "duration": 0.049857,
     "end_time": "2024-02-07T09:51:09.892298",
     "exception": false,
     "start_time": "2024-02-07T09:51:09.842441",
     "status": "completed"
    },
    "tags": []
   },
   "outputs": [
    {
     "data": {
      "text/html": [
       "<div>\n",
       "<style scoped>\n",
       "    .dataframe tbody tr th:only-of-type {\n",
       "        vertical-align: middle;\n",
       "    }\n",
       "\n",
       "    .dataframe tbody tr th {\n",
       "        vertical-align: top;\n",
       "    }\n",
       "\n",
       "    .dataframe thead th {\n",
       "        text-align: right;\n",
       "    }\n",
       "</style>\n",
       "<table border=\"1\" class=\"dataframe\">\n",
       "  <thead>\n",
       "    <tr style=\"text-align: right;\">\n",
       "      <th></th>\n",
       "      <th>price</th>\n",
       "      <th>size</th>\n",
       "      <th>view</th>\n",
       "    </tr>\n",
       "  </thead>\n",
       "  <tbody>\n",
       "    <tr>\n",
       "      <th>0</th>\n",
       "      <td>234314.144</td>\n",
       "      <td>643.09</td>\n",
       "      <td>0</td>\n",
       "    </tr>\n",
       "    <tr>\n",
       "      <th>1</th>\n",
       "      <td>228581.528</td>\n",
       "      <td>656.22</td>\n",
       "      <td>0</td>\n",
       "    </tr>\n",
       "    <tr>\n",
       "      <th>2</th>\n",
       "      <td>281626.336</td>\n",
       "      <td>487.29</td>\n",
       "      <td>1</td>\n",
       "    </tr>\n",
       "    <tr>\n",
       "      <th>3</th>\n",
       "      <td>401255.608</td>\n",
       "      <td>1504.75</td>\n",
       "      <td>0</td>\n",
       "    </tr>\n",
       "    <tr>\n",
       "      <th>4</th>\n",
       "      <td>458674.256</td>\n",
       "      <td>1275.46</td>\n",
       "      <td>1</td>\n",
       "    </tr>\n",
       "    <tr>\n",
       "      <th>...</th>\n",
       "      <td>...</td>\n",
       "      <td>...</td>\n",
       "      <td>...</td>\n",
       "    </tr>\n",
       "    <tr>\n",
       "      <th>95</th>\n",
       "      <td>252460.400</td>\n",
       "      <td>549.80</td>\n",
       "      <td>1</td>\n",
       "    </tr>\n",
       "    <tr>\n",
       "      <th>96</th>\n",
       "      <td>310522.592</td>\n",
       "      <td>1037.44</td>\n",
       "      <td>0</td>\n",
       "    </tr>\n",
       "    <tr>\n",
       "      <th>97</th>\n",
       "      <td>383635.568</td>\n",
       "      <td>1504.75</td>\n",
       "      <td>0</td>\n",
       "    </tr>\n",
       "    <tr>\n",
       "      <th>98</th>\n",
       "      <td>225145.248</td>\n",
       "      <td>648.29</td>\n",
       "      <td>0</td>\n",
       "    </tr>\n",
       "    <tr>\n",
       "      <th>99</th>\n",
       "      <td>274922.856</td>\n",
       "      <td>705.29</td>\n",
       "      <td>1</td>\n",
       "    </tr>\n",
       "  </tbody>\n",
       "</table>\n",
       "<p>100 rows × 3 columns</p>\n",
       "</div>"
      ],
      "text/plain": [
       "         price     size  view\n",
       "0   234314.144   643.09     0\n",
       "1   228581.528   656.22     0\n",
       "2   281626.336   487.29     1\n",
       "3   401255.608  1504.75     0\n",
       "4   458674.256  1275.46     1\n",
       "..         ...      ...   ...\n",
       "95  252460.400   549.80     1\n",
       "96  310522.592  1037.44     0\n",
       "97  383635.568  1504.75     0\n",
       "98  225145.248   648.29     0\n",
       "99  274922.856   705.29     1\n",
       "\n",
       "[100 rows x 3 columns]"
      ]
     },
     "execution_count": 44,
     "metadata": {},
     "output_type": "execute_result"
    }
   ],
   "source": [
    "data"
   ]
  },
  {
   "cell_type": "code",
   "execution_count": 45,
   "id": "be0eccd4",
   "metadata": {
    "execution": {
     "iopub.execute_input": "2024-02-07T09:51:09.957297Z",
     "iopub.status.busy": "2024-02-07T09:51:09.956062Z",
     "iopub.status.idle": "2024-02-07T09:51:09.962996Z",
     "shell.execute_reply": "2024-02-07T09:51:09.962204Z"
    },
    "papermill": {
     "duration": 0.041824,
     "end_time": "2024-02-07T09:51:09.965464",
     "exception": false,
     "start_time": "2024-02-07T09:51:09.923640",
     "status": "completed"
    },
    "tags": []
   },
   "outputs": [],
   "source": [
    "# Forming the regression equation. Our dependent variable 'y' is the 'Price'.\n",
    "y = data['price']\n",
    "\n",
    "# In this case the independent variables (predictors) are 'size', 'year' and 'view'\n",
    "x1 = data[['size','view']]"
   ]
  },
  {
   "cell_type": "code",
   "execution_count": 46,
   "id": "69f042b0",
   "metadata": {
    "execution": {
     "iopub.execute_input": "2024-02-07T09:51:10.029677Z",
     "iopub.status.busy": "2024-02-07T09:51:10.028876Z",
     "iopub.status.idle": "2024-02-07T09:51:10.066378Z",
     "shell.execute_reply": "2024-02-07T09:51:10.065219Z"
    },
    "papermill": {
     "duration": 0.072728,
     "end_time": "2024-02-07T09:51:10.068983",
     "exception": false,
     "start_time": "2024-02-07T09:51:09.996255",
     "status": "completed"
    },
    "tags": []
   },
   "outputs": [
    {
     "data": {
      "text/html": [
       "<table class=\"simpletable\">\n",
       "<caption>OLS Regression Results</caption>\n",
       "<tr>\n",
       "  <th>Dep. Variable:</th>          <td>price</td>      <th>  R-squared:         </th> <td>   0.885</td>\n",
       "</tr>\n",
       "<tr>\n",
       "  <th>Model:</th>                   <td>OLS</td>       <th>  Adj. R-squared:    </th> <td>   0.883</td>\n",
       "</tr>\n",
       "<tr>\n",
       "  <th>Method:</th>             <td>Least Squares</td>  <th>  F-statistic:       </th> <td>   374.4</td>\n",
       "</tr>\n",
       "<tr>\n",
       "  <th>Date:</th>             <td>Wed, 07 Feb 2024</td> <th>  Prob (F-statistic):</th> <td>2.44e-46</td>\n",
       "</tr>\n",
       "<tr>\n",
       "  <th>Time:</th>                 <td>09:51:10</td>     <th>  Log-Likelihood:    </th> <td> -1158.3</td>\n",
       "</tr>\n",
       "<tr>\n",
       "  <th>No. Observations:</th>      <td>   100</td>      <th>  AIC:               </th> <td>   2323.</td>\n",
       "</tr>\n",
       "<tr>\n",
       "  <th>Df Residuals:</th>          <td>    97</td>      <th>  BIC:               </th> <td>   2330.</td>\n",
       "</tr>\n",
       "<tr>\n",
       "  <th>Df Model:</th>              <td>     2</td>      <th>                     </th>     <td> </td>   \n",
       "</tr>\n",
       "<tr>\n",
       "  <th>Covariance Type:</th>      <td>nonrobust</td>    <th>                     </th>     <td> </td>   \n",
       "</tr>\n",
       "</table>\n",
       "<table class=\"simpletable\">\n",
       "<tr>\n",
       "    <td></td>       <th>coef</th>     <th>std err</th>      <th>t</th>      <th>P>|t|</th>  <th>[0.025</th>    <th>0.975]</th>  \n",
       "</tr>\n",
       "<tr>\n",
       "  <th>const</th> <td> 7.748e+04</td> <td> 8337.182</td> <td>    9.294</td> <td> 0.000</td> <td> 6.09e+04</td> <td>  9.4e+04</td>\n",
       "</tr>\n",
       "<tr>\n",
       "  <th>size</th>  <td>  218.7521</td> <td>    8.902</td> <td>   24.574</td> <td> 0.000</td> <td>  201.085</td> <td>  236.420</td>\n",
       "</tr>\n",
       "<tr>\n",
       "  <th>view</th>  <td> 5.756e+04</td> <td> 5278.883</td> <td>   10.904</td> <td> 0.000</td> <td> 4.71e+04</td> <td>  6.8e+04</td>\n",
       "</tr>\n",
       "</table>\n",
       "<table class=\"simpletable\">\n",
       "<tr>\n",
       "  <th>Omnibus:</th>       <td>24.354</td> <th>  Durbin-Watson:     </th> <td>   1.962</td>\n",
       "</tr>\n",
       "<tr>\n",
       "  <th>Prob(Omnibus):</th> <td> 0.000</td> <th>  Jarque-Bera (JB):  </th> <td>  53.619</td>\n",
       "</tr>\n",
       "<tr>\n",
       "  <th>Skew:</th>          <td> 0.896</td> <th>  Prob(JB):          </th> <td>2.27e-12</td>\n",
       "</tr>\n",
       "<tr>\n",
       "  <th>Kurtosis:</th>      <td> 6.107</td> <th>  Cond. No.          </th> <td>2.92e+03</td>\n",
       "</tr>\n",
       "</table><br/><br/>Notes:<br/>[1] Standard Errors assume that the covariance matrix of the errors is correctly specified.<br/>[2] The condition number is large, 2.92e+03. This might indicate that there are<br/>strong multicollinearity or other numerical problems."
      ],
      "text/latex": [
       "\\begin{center}\n",
       "\\begin{tabular}{lclc}\n",
       "\\toprule\n",
       "\\textbf{Dep. Variable:}    &      price       & \\textbf{  R-squared:         } &     0.885   \\\\\n",
       "\\textbf{Model:}            &       OLS        & \\textbf{  Adj. R-squared:    } &     0.883   \\\\\n",
       "\\textbf{Method:}           &  Least Squares   & \\textbf{  F-statistic:       } &     374.4   \\\\\n",
       "\\textbf{Date:}             & Wed, 07 Feb 2024 & \\textbf{  Prob (F-statistic):} &  2.44e-46   \\\\\n",
       "\\textbf{Time:}             &     09:51:10     & \\textbf{  Log-Likelihood:    } &   -1158.3   \\\\\n",
       "\\textbf{No. Observations:} &         100      & \\textbf{  AIC:               } &     2323.   \\\\\n",
       "\\textbf{Df Residuals:}     &          97      & \\textbf{  BIC:               } &     2330.   \\\\\n",
       "\\textbf{Df Model:}         &           2      & \\textbf{                     } &             \\\\\n",
       "\\textbf{Covariance Type:}  &    nonrobust     & \\textbf{                     } &             \\\\\n",
       "\\bottomrule\n",
       "\\end{tabular}\n",
       "\\begin{tabular}{lcccccc}\n",
       "               & \\textbf{coef} & \\textbf{std err} & \\textbf{t} & \\textbf{P$> |$t$|$} & \\textbf{[0.025} & \\textbf{0.975]}  \\\\\n",
       "\\midrule\n",
       "\\textbf{const} &    7.748e+04  &     8337.182     &     9.294  &         0.000        &     6.09e+04    &      9.4e+04     \\\\\n",
       "\\textbf{size}  &     218.7521  &        8.902     &    24.574  &         0.000        &      201.085    &      236.420     \\\\\n",
       "\\textbf{view}  &    5.756e+04  &     5278.883     &    10.904  &         0.000        &     4.71e+04    &      6.8e+04     \\\\\n",
       "\\bottomrule\n",
       "\\end{tabular}\n",
       "\\begin{tabular}{lclc}\n",
       "\\textbf{Omnibus:}       & 24.354 & \\textbf{  Durbin-Watson:     } &    1.962  \\\\\n",
       "\\textbf{Prob(Omnibus):} &  0.000 & \\textbf{  Jarque-Bera (JB):  } &   53.619  \\\\\n",
       "\\textbf{Skew:}          &  0.896 & \\textbf{  Prob(JB):          } & 2.27e-12  \\\\\n",
       "\\textbf{Kurtosis:}      &  6.107 & \\textbf{  Cond. No.          } & 2.92e+03  \\\\\n",
       "\\bottomrule\n",
       "\\end{tabular}\n",
       "%\\caption{OLS Regression Results}\n",
       "\\end{center}\n",
       "\n",
       "Notes: \\newline\n",
       " [1] Standard Errors assume that the covariance matrix of the errors is correctly specified. \\newline\n",
       " [2] The condition number is large, 2.92e+03. This might indicate that there are \\newline\n",
       " strong multicollinearity or other numerical problems."
      ],
      "text/plain": [
       "<class 'statsmodels.iolib.summary.Summary'>\n",
       "\"\"\"\n",
       "                            OLS Regression Results                            \n",
       "==============================================================================\n",
       "Dep. Variable:                  price   R-squared:                       0.885\n",
       "Model:                            OLS   Adj. R-squared:                  0.883\n",
       "Method:                 Least Squares   F-statistic:                     374.4\n",
       "Date:                Wed, 07 Feb 2024   Prob (F-statistic):           2.44e-46\n",
       "Time:                        09:51:10   Log-Likelihood:                -1158.3\n",
       "No. Observations:                 100   AIC:                             2323.\n",
       "Df Residuals:                      97   BIC:                             2330.\n",
       "Df Model:                           2                                         \n",
       "Covariance Type:            nonrobust                                         \n",
       "==============================================================================\n",
       "                 coef    std err          t      P>|t|      [0.025      0.975]\n",
       "------------------------------------------------------------------------------\n",
       "const       7.748e+04   8337.182      9.294      0.000    6.09e+04     9.4e+04\n",
       "size         218.7521      8.902     24.574      0.000     201.085     236.420\n",
       "view        5.756e+04   5278.883     10.904      0.000    4.71e+04     6.8e+04\n",
       "==============================================================================\n",
       "Omnibus:                       24.354   Durbin-Watson:                   1.962\n",
       "Prob(Omnibus):                  0.000   Jarque-Bera (JB):               53.619\n",
       "Skew:                           0.896   Prob(JB):                     2.27e-12\n",
       "Kurtosis:                       6.107   Cond. No.                     2.92e+03\n",
       "==============================================================================\n",
       "\n",
       "Notes:\n",
       "[1] Standard Errors assume that the covariance matrix of the errors is correctly specified.\n",
       "[2] The condition number is large, 2.92e+03. This might indicate that there are\n",
       "strong multicollinearity or other numerical problems.\n",
       "\"\"\""
      ]
     },
     "execution_count": 46,
     "metadata": {},
     "output_type": "execute_result"
    }
   ],
   "source": [
    "# Adding a constant.\n",
    "# Esentially, we are adding a new column (equal in lenght to x), which consists only of 1s\n",
    "x = sm.add_constant(x1)\n",
    "\n",
    "# Fitting the model, according to the OLS (ordinary least squares) method with a dependent variable y and an idependent x\n",
    "results = sm.OLS(y,x).fit()\n",
    "\n",
    "# Printing a sumamary of the regression model\n",
    "results.summary()"
   ]
  },
  {
   "cell_type": "markdown",
   "id": "e731f738",
   "metadata": {
    "papermill": {
     "duration": 0.030677,
     "end_time": "2024-02-07T09:51:10.130768",
     "exception": false,
     "start_time": "2024-02-07T09:51:10.100091",
     "status": "completed"
    },
    "tags": []
   },
   "source": [
    "#### The regression equation we get is:\n",
    "### $ Price = 77480 + 218.7521 * Size + 57560 * View $\n",
    "\n",
    "Other observations:\n",
    "1. Size continues to remain a significant predictor to predict the price of the apartment *(p < 0.05)*.\n",
    "2. The newly introduced predictor 'view' is a significant variable to predict the price of the apartment in the given city.\n",
    "3. This model having the apartment size and whether the said apartment has a sea-view or not explains 88.50% of the variation in the price of the apartment in the given US metropolitan city ($R^2 = 0.885$)."
   ]
  },
  {
   "cell_type": "code",
   "execution_count": 47,
   "id": "12b7a7dc",
   "metadata": {
    "execution": {
     "iopub.execute_input": "2024-02-07T09:51:10.195314Z",
     "iopub.status.busy": "2024-02-07T09:51:10.194512Z",
     "iopub.status.idle": "2024-02-07T09:51:10.628848Z",
     "shell.execute_reply": "2024-02-07T09:51:10.627676Z"
    },
    "papermill": {
     "duration": 0.46946,
     "end_time": "2024-02-07T09:51:10.631449",
     "exception": false,
     "start_time": "2024-02-07T09:51:10.161989",
     "status": "completed"
    },
    "tags": []
   },
   "outputs": [
    {
     "data": {
      "image/png": "[encoded data removed]",
      "text/plain": [
       "<Figure size 640x480 with 1 Axes>"
      ]
     },
     "metadata": {},
     "output_type": "display_data"
    }
   ],
   "source": [
    "plt.scatter(data['size'],y, c='orange')\n",
    "# Define the two regression equations, depending on whether they attended (yes), or didn't (no)\n",
    "yhat_no_sea_view = 77480 + 218.7521*data['size']\n",
    "yhat_sea_view = 135040 + 218.7521*data['size']\n",
    "# Plot the two regression lines\n",
    "fig = plt.plot(data['size'],yhat_no_sea_view, lw=2.5, c='red', label ='Apartments with No Sea View')\n",
    "fig = plt.plot(data['size'],yhat_sea_view, lw=2.5, c='purple', label = 'Apartments with a Sea View')\n",
    "fig = plt.legend(loc='upper left', shadow=True, fontsize='small')\n",
    "# Labelling the axes\n",
    "plt.xlabel('Size (in sq. feet)', fontsize = 20)\n",
    "plt.ylabel('Price (in US $)', fontsize = 20)\n",
    "plt.show()"
   ]
  },
  {
   "cell_type": "markdown",
   "id": "ca9750b1",
   "metadata": {
    "papermill": {
     "duration": 0.032698,
     "end_time": "2024-02-07T09:51:10.697440",
     "exception": false,
     "start_time": "2024-02-07T09:51:10.664742",
     "status": "completed"
    },
    "tags": []
   },
   "source": [
    "#### We observe that there is an increase of US$ 575,000.00 in the price of the apartment when the apartment has a sea-view in the given US metropolitan city.\n",
    "#### The apartment sellers definately want to cash in on the sea-view provided by their apartments.\n",
    "-------------------------------------"
   ]
  }
 ],
 "metadata": {
  "kaggle": {
   "accelerator": "none",
   "dataSources": [
    {
     "datasetId": 3453225,
     "sourceId": 6036921,
     "sourceType": "datasetVersion"
    },
    {
     "datasetId": 4289463,
     "sourceId": 7381015,
     "sourceType": "datasetVersion"
    },
    {
     "datasetId": 4369480,
     "sourceId": 7503386,
     "sourceType": "datasetVersion"
    },
    {
     "datasetId": 4375383,
     "sourceId": 7512152,
     "sourceType": "datasetVersion"
    },
    {
     "datasetId": 4381362,
     "sourceId": 7521217,
     "sourceType": "datasetVersion"
    },
    {
     "datasetId": 4411567,
     "sourceId": 7578054,
     "sourceType": "datasetVersion"
    }
   ],
   "dockerImageVersionId": 30635,
   "isGpuEnabled": false,
   "isInternetEnabled": true,
   "language": "python",
   "sourceType": "notebook"
  },
  "kernelspec": {
   "display_name": "Python 3",
   "language": "python",
   "name": "python3"
  },
  "language_info": {
   "codemirror_mode": {
    "name": "ipython",
    "version": 3
   },
   "file_extension": ".py",
   "mimetype": "text/x-python",
   "name": "python",
   "nbconvert_exporter": "python",
   "pygments_lexer": "ipython3",
   "version": "3.10.12"
  },
  "papermill": {
   "default_parameters": {},
   "duration": 16.705276,
   "end_time": "2024-02-07T09:51:11.453856",
   "environment_variables": {},
   "exception": null,
   "input_path": "__notebook__.ipynb",
   "output_path": "__notebook__.ipynb",
   "parameters": {},
   "start_time": "2024-02-07T09:50:54.748580",
   "version": "2.4.0"
  }
 },
 "nbformat": 4,
 "nbformat_minor": 5
}
